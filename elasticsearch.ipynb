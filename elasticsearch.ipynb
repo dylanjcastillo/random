{
 "cells": [
  {
   "cell_type": "markdown",
   "id": "b4f17848",
   "metadata": {},
   "source": [
    "# Elasticsearch mini tutorial\n",
    "\n",
    "👨‍🎓 Elasticsearch (ES) is one of those technologies you never hear about in DS courses, but it’s very common in industry.\n",
    "\n",
    "You'll find ES in places like GitHub, Uber, or Facebook.\n",
    "\n",
    "Not familiar with ES? Don't worry, I wrote a quick tutorial to get you started with it."
   ]
  },
  {
   "cell_type": "markdown",
   "id": "258148df",
   "metadata": {},
   "source": [
    "## 📝 What’s Elasticsearch in 30 secs or less?\n",
    "\n",
    "It's a  distributed, fast, and easy-to-scale search engine capable of handling all types of data.\n",
    "\n",
    "It’s frequently used as a search engine for apps, websites, and logs analytics.\n",
    "\n",
    "Ok, enough theory. Let's start writing some code!"
   ]
  },
  {
   "cell_type": "markdown",
   "id": "4db6048b",
   "metadata": {},
   "source": [
    "## 0️⃣ Prerequisites\n",
    "\n",
    "1. Install `docker`\n",
    "\n",
    "2. Create a `virtual env` and install `pandas`, `elasticsearch`, and `notebook`\n",
    "\n",
    "```shell\n",
    "$ pip install pandas notebook elasticsearch\n",
    "```"
   ]
  },
  {
   "cell_type": "markdown",
   "id": "6749f19c",
   "metadata": {},
   "source": [
    "## 1️⃣ Run an ES cluster\n",
    "\n",
    "The easiest way to run elasticsearch locally is by using docker.\n",
    "\n",
    "Open a terminal and run this code to start a single-node ES cluster you can use for local development:\n",
    "\n",
    "```shell\n",
    "$ docker run --rm -p 9200:9200 -p 9300:9300 -e \"xpack.security.enabled=false\" -e \"discovery.type=single-node\" docker.elastic.co/elasticsearch/elasticsearch:8.3.3\n",
    "```"
   ]
  },
  {
   "cell_type": "markdown",
   "id": "b67935d7",
   "metadata": {},
   "source": [
    "## 2️⃣ Connect to your cluster\n",
    "\n",
    "Create a new jupyter notebook, and run the following code, to connect to your newly created ES cluster.\n",
    "\n",
    "If everything went well, you should see an output similar to mine."
   ]
  },
  {
   "cell_type": "code",
   "execution_count": 11,
   "id": "a7cabaf4",
   "metadata": {},
   "outputs": [
    {
     "data": {
      "text/plain": [
       "{'name': '6e4c20d6b504',\n",
       " 'cluster_name': 'docker-cluster',\n",
       " 'cluster_uuid': 'gF8ksWoyRCSN3WKinT7Zlg',\n",
       " 'version': {'number': '8.3.3',\n",
       "  'build_flavor': 'default',\n",
       "  'build_type': 'docker',\n",
       "  'build_hash': '801fed82df74dbe537f89b71b098ccaff88d2c56',\n",
       "  'build_date': '2022-07-23T19:30:09.227964828Z',\n",
       "  'build_snapshot': False,\n",
       "  'lucene_version': '9.2.0',\n",
       "  'minimum_wire_compatibility_version': '7.17.0',\n",
       "  'minimum_index_compatibility_version': '7.0.0'},\n",
       " 'tagline': 'You Know, for Search'}"
      ]
     },
     "execution_count": 11,
     "metadata": {},
     "output_type": "execute_result"
    }
   ],
   "source": [
    "from elasticsearch import Elasticsearch\n",
    "\n",
    "es = Elasticsearch(\"http://localhost:9200\")\n",
    "es.info().body"
   ]
  },
  {
   "cell_type": "markdown",
   "id": "1afa8910",
   "metadata": {},
   "source": [
    "## 3️⃣ Read the dataset\n",
    "\n",
    "Read the dataset and extract a sample from it.\n",
    "\n",
    "You'll need some data to use in ES, so download this dataset: https://www.kaggle.com/datasets/jrobischon/wikipedia-movie-plots\n",
    "\n",
    "Read it using pandas and extract a sample from it (if you don't take a sample, the next steps may take a long time to run):"
   ]
  },
  {
   "cell_type": "code",
   "execution_count": 2,
   "id": "63814645",
   "metadata": {},
   "outputs": [],
   "source": [
    "import pandas as pd\n",
    "\n",
    "df = (\n",
    "    pd.read_csv(\"wiki_movie_plots_deduped.csv\")\n",
    "    .dropna()\n",
    "    .sample(5000, random_state=42)\n",
    ")"
   ]
  },
  {
   "cell_type": "markdown",
   "id": "b46d321b",
   "metadata": {},
   "source": [
    "## 4️⃣ Create an index\n",
    "\n",
    "An index is a collection of documents that ES stores and represents through a very efficient data structure called an inverted index.\n",
    "\n",
    "This process is what allows ES to perform very fast full-text searches.\n",
    "\n",
    "You can create a new index like this:"
   ]
  },
  {
   "cell_type": "code",
   "execution_count": 3,
   "id": "6a55cf54",
   "metadata": {},
   "outputs": [
    {
     "data": {
      "text/plain": [
       "ObjectApiResponse({'acknowledged': True, 'shards_acknowledged': True, 'index': 'movies'})"
      ]
     },
     "execution_count": 3,
     "metadata": {},
     "output_type": "execute_result"
    }
   ],
   "source": [
    "mappings = {\n",
    "        \"properties\": {\n",
    "            \"title\": {\"type\": \"text\", \"analyzer\": \"english\"},\n",
    "            \"ethnicity\": {\"type\": \"text\", \"analyzer\": \"standard\"},\n",
    "            \"director\": {\"type\": \"text\", \"analyzer\": \"standard\"},\n",
    "            \"cast\": {\"type\": \"text\", \"analyzer\": \"standard\"},\n",
    "            \"genre\": {\"type\": \"text\", \"analyzer\": \"standard\"},\n",
    "            \"plot\": {\"type\": \"text\", \"analyzer\": \"english\"},\n",
    "            \"year\": {\"type\": \"integer\"},\n",
    "            \"wiki_page\": {\"type\": \"keyword\"}\n",
    "    }\n",
    "}\n",
    "\n",
    "es.indices.create(index=\"movies\", mappings=mappings)"
   ]
  },
  {
   "cell_type": "markdown",
   "id": "ab3416f2",
   "metadata": {},
   "source": [
    "## 5️⃣ Add data to your index\n",
    "\n",
    "You can use `.index()` or `.bulk()` to add data to an index.\n",
    "\n",
    "`.index()` adds one item at a time, while `.bulk()` lets you add multiple items at the same time.\n",
    "\n",
    "You can use any of the two methods to add data to your index:"
   ]
  },
  {
   "cell_type": "markdown",
   "id": "b8e8fc47",
   "metadata": {},
   "source": [
    "### Using `.index()`"
   ]
  },
  {
   "cell_type": "code",
   "execution_count": 4,
   "id": "1c1cab64",
   "metadata": {},
   "outputs": [],
   "source": [
    "for i, row in df.iterrows():\n",
    "    doc = {\n",
    "        \"title\": row[\"Title\"],\n",
    "        \"ethnicity\": row[\"Origin/Ethnicity\"],\n",
    "        \"director\": row[\"Director\"],\n",
    "        \"cast\": row[\"Cast\"],\n",
    "        \"genre\": row[\"Genre\"],\n",
    "        \"plot\": row[\"Plot\"],\n",
    "        \"year\": row[\"Release Year\"],\n",
    "        \"wiki_page\": row[\"Wiki Page\"]\n",
    "    }\n",
    "            \n",
    "    es.index(index=\"movies\", id=i, document=doc)"
   ]
  },
  {
   "cell_type": "markdown",
   "id": "61d64b15",
   "metadata": {},
   "source": [
    "### Using `.bulk()`"
   ]
  },
  {
   "cell_type": "code",
   "execution_count": 5,
   "id": "018ae3db",
   "metadata": {},
   "outputs": [
    {
     "data": {
      "text/plain": [
       "(5000, [])"
      ]
     },
     "execution_count": 5,
     "metadata": {},
     "output_type": "execute_result"
    }
   ],
   "source": [
    "from elasticsearch.helpers import bulk\n",
    "\n",
    "bulk_data = []\n",
    "for i,row in df.iterrows():\n",
    "    bulk_data.append(\n",
    "        {\n",
    "            \"_index\": \"movies\",\n",
    "            \"_id\": i,\n",
    "            \"_source\": {        \n",
    "                \"title\": row[\"Title\"],\n",
    "                \"ethnicity\": row[\"Origin/Ethnicity\"],\n",
    "                \"director\": row[\"Director\"],\n",
    "                \"cast\": row[\"Cast\"],\n",
    "                \"genre\": row[\"Genre\"],\n",
    "                \"plot\": row[\"Plot\"],\n",
    "                \"year\": row[\"Release Year\"],\n",
    "                \"wiki_page\": row[\"Wiki Page\"],\n",
    "            }\n",
    "        }\n",
    "    )\n",
    "bulk(es, bulk_data)"
   ]
  },
  {
   "cell_type": "markdown",
   "id": "3e338a2c",
   "metadata": {},
   "source": [
    "### Check the number of documents indexed"
   ]
  },
  {
   "cell_type": "code",
   "execution_count": 6,
   "id": "398b55c1",
   "metadata": {},
   "outputs": [
    {
     "data": {
      "text/plain": [
       "ListApiResponse([{'epoch': '1661880151', 'timestamp': '17:22:31', 'count': '5000'}])"
      ]
     },
     "execution_count": 6,
     "metadata": {},
     "output_type": "execute_result"
    }
   ],
   "source": [
    "es.indices.refresh(index=\"movies\")\n",
    "es.cat.count(index=\"movies\", format=\"json\")"
   ]
  },
  {
   "cell_type": "markdown",
   "id": "54947e1a",
   "metadata": {},
   "source": [
    "## 6️⃣ Make searches in your ES index\n",
    "\n",
    "Finally, you'll want to start running searches using your index.\n",
    "\n",
    "ES has a powerful DSL that lets you build many types of queries.\n",
    "\n",
    "Here's an example of a search that looks for movies starring Jack Nicholson, but whose director isn't Roman Polanski:"
   ]
  },
  {
   "cell_type": "code",
   "execution_count": 7,
   "id": "c843a253",
   "metadata": {},
   "outputs": [
    {
     "data": {
      "text/plain": [
       "ObjectApiResponse({'took': 17, 'timed_out': False, '_shards': {'total': 1, 'successful': 1, 'skipped': 0, 'failed': 0}, 'hits': {'total': {'value': 83, 'relation': 'eq'}, 'max_score': 10.9237385, 'hits': [{'_index': 'movies', '_id': '8812', '_score': 10.9237385, '_source': {'title': 'The King of Marvin Gardens', 'ethnicity': 'American', 'director': 'Bob Rafelson', 'cast': 'Jack Nicholson, Ellen Burstyn, Bruce Dern', 'genre': 'drama', 'plot': \"David and Jason are estranged brothers, the former a depressive living with his grandfather in Philadelphia where he runs a late-night radio talk show and the latter an extrovert con man working for gang boss Lewis in Atlantic City, where he lives with the manic-depressive Sally, former beauty queen and prostitute, and her stepdaughter Jessica. Begging David to come to Atlantic City and bail him out of jail, Jason once freed persuades him to stay on in his hotel suite with the two women.\\r\\nTensions grow between the four as Jason pursues a ludicrous dream of conning a Japanese syndicate into buying a Hawaiian island where he will build and run a casino. The sceptical David has no faith in Jason's scam, while Jason chides David for wallowing in his dark, lonely depressed life. Sally, increasingly neurotic over losing her looks, cuts off her hair and throws away her cosmetics. When Jason starts packing to leave for Hawaii, in rage and despair she shoots him dead. David escorts his brother's corpse home to Philadelphia by train.\", 'year': 1972, 'wiki_page': 'https://en.wikipedia.org/wiki/The_King_of_Marvin_Gardens'}}, {'_index': 'movies', '_id': '9140', '_score': 10.9237385, '_source': {'title': 'The Fortune', 'ethnicity': 'American', 'director': 'Mike Nichols', 'cast': 'Warren Beatty, Jack Nicholson, Stockard Channing', 'genre': 'comedy', 'plot': 'Nicky Wilson (Beatty) and Oscar Sullivan (Nicholson) are inept 1920s scam artists in Northeastern United States who see pay dirt in the guise of Fredericka Quintessa \"Freddie\" Bigard (Stockard Channing), the millionaire heiress to a sanitary napkin fortune. She loves the already married Nicky, but because the Mann Act prohibits him from taking her across state lines and engaging in immoral relations, he proposes that she marry Oscar and then carry on an affair with the man she wants. Oscar, who is wanted for embezzlement and anxious to get out of town, is happy to comply with the plan, although he intends to claim his spousal privileges after they are wed.\\r\\nOnce they reach Los Angeles, the men try everything they can to separate Freddie from her inheritance without success, but with sufficient determination to arouse her suspicions. When she announces her plan to donate her money to charity, Nicky and Oscar conclude that murder might be their only recourse if they\\'re going to get rich quick. Eventually arrested for the murder, Nicky and Oscar confess everything to the L.A.P.D.. This leads to unusual complications when the arresting detective meets the very-alive Fredddie, who passed out and was oblivious to the entire \"murder\", and is shocked to hear the story.', 'year': 1975, 'wiki_page': 'https://en.wikipedia.org/wiki/The_Fortune'}}, {'_index': 'movies', '_id': '10871', '_score': 10.287027, '_source': {'title': 'The Witches of Eastwick', 'ethnicity': 'American', 'director': 'George Miller', 'cast': 'Susan Sarandon, Cher, Michelle Pfeiffer, Jack Nicholson', 'genre': 'comedy', 'plot': 'Alexandra Medford (Cher), Jane Spofford (Susan Sarandon), and Sukie Ridgemont (Michelle Pfeiffer) are three dissatisfied women living in the picturesque town of Eastwick, Rhode Island. Alex is a sculptor and single mother of one daughter; Jane is a newly divorced music teacher unable to have children; while Sukie has six daughters and works as a columnist for the Eastwick Word, the local newspaper. The three friends all have lost their husbands (Alex\\'s died, Jane\\'s divorced her, and Sukie\\'s abandoned her). Unaware that they are witches, the women unwittingly form a coven where they have weekly get-togethers and share their fantasies about ideal men.\\r\\nA mysterious man (Jack Nicholson) arrives in town and stirs up trouble by buying the town\\'s landmark property: the Lennox Mansion. The arrival of this enigmatic stranger fascinates the townsfolk, all except for Felicia Alden (Veronica Cartwright), the devoutly religious wife of newspaper editor Clyde Alden (Richard Jenkins), Sukie\\'s boss. Felicia senses that this man (whose name is easily forgotten) is up to no good. One night, at one of Jane\\'s music recitals, the strange man appears and makes a spectacle of himself, which leads to more gossip. After the recital, Jane receives a bouquet of flowers with the initial D written on it. This sparks Sukie\\'s memory, finally revealing the man\\'s name as Daryl Van Horne. However, as chaos over the name spreads through the crowd, Sukie\\'s bead necklace inexplicably breaks and falls to the floor, causing Felicia (who had mocked Daryl\\'s name) to trip down a large staircase and break her leg.\\r\\nThe following day, Daryl sets out to seduce Alex. As he converses with her, he says insensitive, disgusting, and rude things every time he speaks. Appalled, she tells him off, refuses his amorous advances, and begins to walk out. Before she opens the door, he speaks to her, manipulating her emotions until she eventually agrees. The next morning, Daryl visits the shy and insecure Jane. As the two sit down and share polite conversation, Jane explains that the Lennox Mansion was built on a site where alleged witches were burned at the stake. Later that night, Daryl encourages Jane to play her cello with wild abandon, never before achieved, playing faster and faster while accompanied by Daryl on the piano, until finally the strings break, the cello bursts into flame, and Jane flings herself upon Daryl with passion. The following week, Daryl invites all three of the women to his mansion, his sights now on Sukie. Later, as envy and rivalry emerge among the women, they inadvertently levitate a tennis ball. Finally aware of their magical abilities, the women agree to share Daryl.\\r\\nAs the women spend more time at Daryl\\'s mansion, Felicia spreads rumors about their indecency. Alex, Jane, and Sukie become social outcasts. As the witches begin to question their loyalty to Daryl, he causes them to unknowingly cast a spell against Felicia. Later that night, while ranting to her husband about Daryl being the Devil, Felicia begins to vomit cherry stones. Horrified by her uncontrollable behavior, Clyde kills her with a fire poker.\\r\\nAfter Felicia\\'s death, the three women become fearful of their powers and agree to avoid each other and Daryl until the situation has quieted down. Upset by this abandonment, Daryl uses his own powers to bring their worst fears to life. Alex awakens to a bed full of snakes; Jane\\'s body begins rapidly aging; and Sukie experiences sudden, agonizing pain. Realizing the only way to get rid of Daryl is by using witchcraft against him, the women reunite with him, pretending to have made amends.\\r\\nThe next morning, Daryl sets out to buy bagels and ice cream, as per the request of the three women. While he is out of the mansion, Alex uses wax and Daryl\\'s hair to create a voodoo doll in his image and the three women begin to harm the doll, hoping that Daryl will leave as a result. As the spell takes effect, Daryl - still in town - is buffeted by a sudden wind and begins to feel excruciating pain (each event corresponding to something the doll undergoes). He runs inside a church to hide from the wind and finds it full of people praying. Realizing the source of his troubles, he begins ranting about the women, cursing them as a group before vomiting cherry pits like Felicia did. An enraged Daryl then races home to punish the witches for their betrayal. Realizing their plot to make Daryl leave was ineffective, they attempt to hide their spell and toss the voodoo doll into a fire just as he enters the mansion. Daryl vanishes as a result, but not before reverting to a large, monstrous form that attempts to shake the mansion apart.\\r\\nEighteen months later, the women are living together in Daryl\\'s mansion, each with a new baby son (each boy shares his mother\\'s hair color). The boys are playing together when Daryl appears on a wall filled with video screens and invites them to \"give Daddy a kiss.\" Before they can do so, Alex, Jane, and Sukie appear and switch off the televisions.', 'year': 1987, 'wiki_page': 'https://en.wikipedia.org/wiki/The_Witches_of_Eastwick_(film)'}}, {'_index': 'movies', '_id': '10742', '_score': 7.9655814, '_source': {'title': 'Ironweed', 'ethnicity': 'American', 'director': 'Héctor Babenco', 'cast': \"Jack Nicholson, Meryl Streep, Tom Waits, Fred Gwynne; Michael O'Keefe, Carroll Baker\", 'genre': 'drama', 'plot': \"Francis Phelan (Jack Nicholson) is a washed-up baseball player who deserted his family back in the 1910s when he accidentally dropped his son and killed him. It is assumed in the film that he was drunk at the time until he later claims he was just tired and doesn't understand why no one will believe in his story. Since then, Phelan has been a bum, punishing himself. Wandering into his hometown of Albany on Halloween in 1938, Phelan seeks out his lover and drinking companion, Helen Archer (Meryl Streep). The two meet up in a mission managed by Reverend Chester (James Gammon), and later in Oscar Reo's (Fred Gwynne) gin mill.\\r\\nOver the next few days, Phelan takes a few minor jobs to support Helen, while haunted by visions of his past. Francis comes back to his old family house and tries to make peace with his wife Annie Phelan (Carroll Baker), his son Billy (Michael O'Keefe) and Peg (Diane Venora). Meanwhile, a group of local vigilantes take it upon themselves to drive the homeless out of Albany. During the course of the day, a series of events change Francis' life forever.\", 'year': 1987, 'wiki_page': 'https://en.wikipedia.org/wiki/Ironweed_(film)'}}, {'_index': 'movies', '_id': '14362', '_score': 7.9655814, '_source': {'title': \"Something's Gotta Give\", 'ethnicity': 'American', 'director': 'Nancy Meyers', 'cast': 'Jack Nicholson, Diane Keaton, Keanu Reeves, Amanda Peet, Frances McDormand, Jon Favreau', 'genre': 'romantic comedy', 'plot': 'Harry Sanborn is a wealthy New York music mogul who has had a 40-year habit of dating women under 30, including his latest conquest, Marin Klein. The two drive to her mother\\'s Hamptons beach house expecting to be alone, but are surprised by Marin\\'s mother, successful playwright Erica Barry, who is there with her sister Zoe.\\r\\nAfter an awkward dinner, the night turns disastrous when — during foreplay with Marin — Harry has a heart attack and is rushed to a hospital. The doctor, Julian Mercer, tells Harry to stay nearby for a few days, so Harry ends up staying with Erica. Their personalities clash and make for awkward living arrangements—until they get to know each other. The fact that Harry is dating her daughter and that Julian has fallen for Erica leave the two struggling to deal with relationships.\\r\\nMarin and Harry agree to break up. He and Erica spend more time together and eventually consummate their relationship. Harry discovers that his improving health means that he no longer has to stay with Erica, so he heads home.\\r\\nMarin receives news that her father, Dave Klein, Erica\\'s ex-husband, whom Erica still allows to direct her plays, is getting remarried to Kristen, an ear, nose and throat doctor who is only two years older than Marin. Although Erica is unaffected by the news, Marin is devastated and pressures her mother into accompanying her to a family dinner. Erica is the life of the party until she sees Harry at another table with another woman. In the argument that follows, Harry suffers from what he believes is another heart attack, but he is told by the young ER physician, Dr. Martinez, who treats him like her father, that it was only a panic attack.\\r\\nAlthough she is heartbroken, Erica figures that these events would be great to use in a play. Harry hears about it and rushes to the NYC theater where it is being rehearsed. Despite her denials, it is quickly obvious that she has used the most personal details of their affair in the play. Erica coolly rebuffs his every insinuation that he cares about her and hints that his character will die in the play—for a laugh. He then has another panic attack and is again treated by Dr.\\xa0Martinez, who warns him that he needs to learn to \"decompress\".\\r\\nSix months pass. Erica\\'s play is a huge success. Harry pays Marin a visit to apologize for anything he ever did to hurt her. She replies that he was nothing but nice to her and happily tells him that she is pregnant and has a new husband. Harry expresses a desire to see Erica. Marin tells him that her mother is in Paris celebrating her birthday. Harry decides to surprise Erica. Remembering how they had once planned to spend their birthdays together there, he shows up at the Parisian restaurant where she is seated at a table. Harry explains that over the past six months he reached out to all of the women he ever had affairs with, and even though repeatedly rebuffed at first, finally broke through. They all had identical harsh stories that helped him learn how \"I arrived at being me.\" He tells Erica that his trip to find her was the last and the farthest. Julian appears. All along, Erica has been waiting at the restaurant for Julian, whom she is now dating.\\r\\nHarry and Erica get along well during the dinner, but they part outside the restaurant. While he is gazing in heartache over the river Seine, Erica pulls up in a taxi. She explains that Julian figured out what was happening between them and decided to step aside to let her be with Harry. Harry explains that his search the last six months has made him realize he truly loves Erica. Harry and Erica kiss.\\r\\nA year later, at a New York restaurant, Erica and Harry, now married, are out with Marin, her husband and her new baby daughter, as one big happy family.', 'year': 2003, 'wiki_page': 'https://en.wikipedia.org/wiki/Something%27s_Gotta_Give_(film)'}}, {'_index': 'movies', '_id': '11550', '_score': 6.747442, '_source': {'title': 'The Two Jakes', 'ethnicity': 'American', 'director': 'Jack Nicholson', 'cast': 'Jack Nicholson, Harvey Keitel, Meg Tilly, Madeleine Stowe, Eli Wallach, Ruben Blades, Perry Lopez, Richard Farnsworth', 'genre': 'crime drama', 'plot': 'In Los Angeles in 1948, Julius \"Jake\" Berman hires private investigator J. J. \"Jake\" Gittes to catch his wife, Kitty, in the act of committing adultery. During the sting, Berman kills his rival, who also happens to be his business partner in a real estate development company. Gittes, not having known this, suddenly finds himself under scrutiny for his role in the possible crime, all of which centers around a wire recording that captured the illicit love meeting, the confrontation, and the killing of Mark Bodine. It calls into question if Berman knew and killed his partner to wrest control of the partnership, making it murder, or was an act of jealousy, which may qualify as \"temporary insanity\" and be permitted as a defense to a charge of murder.\\r\\nGittes must convince LAPD captain Escobar that he should not be charged as an accomplice. Oddly, Berman seems unconcerned with the possibility that he may be accused of murder. Gittes has the recording, which Berman\\'s attorney, Cotton Weinberger, and mobster friend Mickey Nice, both want, locked in a safe in his office in L.A., which is being rocked by earthquakes. Berman\\'s housing development in the Valley also is experiencing seismic activities. Gittes is nearly killed in a gas explosion, waking to find Berman and wife, Kitty, standing over him.\\r\\nGittes has a confrontation, and later a sexual encounter, with Lilian Bodine, the dead man\\'s angry widow. He is presented with proof that Earl Rawley, a wealthy and ruthless oil man, may be drilling under the Bodine and Berman development, though Rawley has denied it. This leads to a need to determine who owns the mineral rights to the land. Gittes discovers that the rights are owned by one Katherine Mulwray, daughter of Evelyn Mulwray, his love interest from twelve years prior. He also discovers that the deed transfers were executed in such a way as to attempt to hide Katherine Mulwray\\'s prior ownership and continued claim of the mineral rights.\\r\\nGittes operatives have seen Berman in the company of a blond woman along with Mickey, and a bodyguard. With a bit of sleuthing Gittes determines that the woman is an oncologist and is treating Berman for cancer somewhere below the waist. Gittes confronts Berman with this knowledge and gets a full confession. Along the way, Gittes discovers that Berman is not going to survive and the entire set-up was to ensure that Kitty was protected once he died.\\r\\nIn order to get Kitty to talk to him, Gittes must prove that Berman set out to kill his partner. Once accomplished, Kitty agrees to meet Gittes and tell him what she knows about Berman. In the process of discussing Berman\\'s possible motivations, mineral rights, and the possible whereabouts of Katherine, it is revealed that Kitty and Katherine are the same person. Kitty had never suspected that her husband is dying.\\r\\nIn order to prove premeditation, passion, and perhaps even connections to a woman long missing, seemingly everyone wants the recording, which Gittes refuses to give up until the day of the inquest. Somehow, Gittes edits the recording, leaving Katherine\\'s name chopped out of the dialog, shooting, and aftermath of Lillian\\'s murder. This makes the inquest a short, satisfying meeting where the judge has no reason to suspect murder, and Berman is now free of criminal charges. Confronted with the knowledge Gittes has of his terminal illness, Berman, knowing the model house he is in is filled with natural gas, convinces Gittes and Mickey to leave him alone in the house so he can \"have a smoke.\" He doesn\\'t want an autopsy to interfere with Kitty\\'s inheritance. As they drive off, the house explodes.\\r\\nThe story ends with Kitty and Gittes in his office. They speak of regrets, and Kitty kisses Gittes, who rejects her advances, saying \"That\\'s your problem, kid. You don\\'t know who you\\'re kidding.\" She leaves, telling him to \"Think of me time to time\". Gittes tells her, \"It never goes away.\"', 'year': 1990, 'wiki_page': 'https://en.wikipedia.org/wiki/The_Two_Jakes'}}, {'_index': 'movies', '_id': '7654', '_score': 6.420705, '_source': {'title': 'Red Nightmare', 'ethnicity': 'American', 'director': 'George Waggner', 'cast': 'Jack Webb, Jack Kelly', 'genre': 'drama', 'plot': \"A man takes his American freedoms for granted, until he wakes up one morning to find out that the United States Government has been replaced with a Communist system. The basis for this short film, narrated by Jack Webb, is the alleged Soviet re-creation of US communities for the purpose of training infiltrators, spies, and moles.\\r\\nThe film begins in what looks like a typical American town. The camera moves back to reveal barbed wire, barricades, and soldiers in Soviet Army uniforms. Narrator Jack Webb informs us that there are several places behind the Iron Curtain used for training Soviet espionage and sabotage forces prior to infiltrating America.\\r\\nWebb introduces us to a typical American family of father Jerry (Jack Kelly), wife Helen (Jeanne Cooper), and daughter Linda (Patricia Woodell, the original Bobbie Jo on Petticoat Junction) Donovan. Her boyfriend Bill Martin (Peter Brown) has been invited to dinner but while Jerry lectures Bill on football plays, Bill only has eyes for Linda. All is not well, as Jerry's missing his PTA meeting to go bowling, and his intention to miss his Army Reserve training does not go over well with Helen. Linda and Bill inform Jerry and Helen they wish to get married but Jerry is angered and says they are too young, but he would have no objection if they waited five years after university.\\r\\nJack Webb explains how safe Jerry is in his world, but when Jerry goes to sleep, Webb looks grim and tells the audience Jerry is going to have a Red Nightmare.\\r\\nJerry awakes to find meetings in the public square about infiltrating America to bring down Capitalism. He returns home to find his daughter going to a farm collective escorted by Bill, who is now in Russian Army uniform. Helen informs Jerry that he will have to address the PTA on the glories of communism, which Jerry refuses to do, but his wife says he has no choice. At work, Jerry's foreman (Robert Conrad) tells him that he has not met his quota and must work through the lunch break to meet it. On Sunday morning, Jerry wakes to find his two youngest children being sent to a State Communist school against his wishes. Jerry insists on the children going to Sunday School, and takes them to their church that has been turned into a museum glorifying the Soviet Union, including many inventions made by Americans which the Soviets claim to have invented. Jerry knocks the exhibits over, and is arrested by troops led by a Commissar (Peter Breck).\\r\\nJerry is brought to trial at a Soviet tribunal (Judge, Andrew Duggan; prosecutor, Mike Road), where there is no jury nor a defense attorney. Jerry demands to know what he is charged with, but the rights Americans take for granted are long gone. After condemning testimony from several witnesses, including his own wife, Jerry is convicted and sentenced to death. When he is strapped into the execution chair, Jerry makes a speech about the Soviet people awakening one day to overthrow communism, before he gets a bullet in the head from the Commissar (the killing is offscreen).\\r\\nJerry wakes up to his freedoms and apologizes to Bill and Linda. Bill says that Jerry had a point about waiting to get married and he and Linda will do so after he finishes his enlistment in the United States Army.\", 'year': 1962, 'wiki_page': 'https://en.wikipedia.org/wiki/Red_Nightmare'}}, {'_index': 'movies', '_id': '10365', '_score': 5.2568903, '_source': {'title': 'Fletch', 'ethnicity': 'American', 'director': 'Michael Ritchie', 'cast': 'Chevy Chase, Joe Don Baker, Dana Wheeler-Nicholson, Geena Davis', 'genre': 'comedy', 'plot': 'Los Angeles Times reporter Irwin \"Fletch\" Fletcher (Chase) is writing an article exposing drug trafficking on the beaches of Los Angeles. Posing as an addict during his investigation, he is approached by Boyd Aviation executive vice president Alan Stanwyk (Matheson) who mistakenly assumes Fletch is a junkie. Stanwyk claims to have bone cancer, with only months left to live, and wishes to avoid the pain and suffering. Stanwyk offers $50,000 for Fletch to come to his mansion in a few days time, kill him, and then escape to Rio de Janeiro, staging the murder to look like a burglary.\\r\\nFletch, while not completely convinced on the truth of Stanwyk\\'s story, reluctantly agrees to the plan. Along with his colleague Larry (Davis), he begins investigating Stanwyk instead of completing his drug trafficking exposé, much to the disapproval of his overbearing editor Frank Walker (Libertini). Disguised as a doctor, Fletch accesses Stanwyk\\'s file at the hospital and learns Stanwyk lied about having cancer.\\r\\nFletch visits Stanwyk\\'s wife Gail (Wheeler-Nicholson) at her tennis club. Pretending to be a tennis instructor and friend of Alan\\'s, he flirts with her during an impromptu tennis lesson. Looking into Stanwyk\\'s finances, Fletch finds that Gail recently converted $3 million of her personal stock in Boyd Aviation into cash for her husband, to buy a ranch in Provo, Utah. Fletch breaks into the realtor\\'s office and discovers the deed lists the sale price as only $3,000.\\r\\nMeanwhile, LAPD Chief Jerry Karlin (Baker) learns of Fletch\\'s drug article. He warns Fletch that the article will jeopardize his undercover operation on the beach. Karlin threatens to kill Fletch unless he agrees to drop the investigation. At the tennis club, Fletch overhears an arrogant club member, Mr. Underhill, insulting a waiter and decides to use Underhill\\'s tab to treat Gail to an expensive lunch in her private cabana. Fletch reveals Alan\\'s murder scheme to her and tells her the true price of the ranch.\\r\\nFletch watches Stanwyk making a suspicious briefcase exchange with Chief Karlin, but is unable to determine the nature of their relationship. He returns home to find LAPD officers lying in wait at his apartment. He flees, but is pursued in a harrowing car chase. Forced to go into hiding, Fletch returns to Provo. Posing as an insurance investigator, he interviews Stanwyk\\'s parents. Fletch discovers Stanwyk has been secretly married to another woman for eight years; his bigamous marriage to Gail allowed him access to her personal wealth.\\r\\nFletch arrives at Stanwyk\\'s mansion on the night of the planned murder, but finds Stanwyk prepared to kill him instead. Fletch reveals his discovery of Stanwyk\\'s real plan: to fake his own death by killing Fletch and burning his body beyond recognition, then escape to Brazil with his first wife and Gail\\'s $3 million. Stanwyk was also using his private jet to smuggle cocaine from South America to supply Chief Karlin, who blackmailed ex-convicts to peddle it on the beaches. Karlin arrives unexpectedly; learning of Stanwyk\\'s intention to flee with $800,000 of the Chief\\'s drug money, he kills Stanwyk. Karlin and Fletch fight over the gun until Gail strikes Karlin from behind, rendering him unconscious.\\r\\nKarlin is indicted with Fletch\\'s testimony. Fletch begins dating Gail and, in the final scene, takes her on a vacation to Rio, again using Mr. Underhill\\'s tab.', 'year': 1985, 'wiki_page': 'https://en.wikipedia.org/wiki/Fletch_(film)'}}, {'_index': 'movies', '_id': '12772', '_score': 5.167083, '_source': {'title': 'Mars Attacks!', 'ethnicity': 'American', 'director': 'Tim Burton', 'cast': 'Jack Nicholson, Glenn Close, Annette Bening, Pierce Brosnan, Danny DeVito, Jim Brown, Sarah Jessica Parker, Martin Short, Michael J. Fox, Lukas Haas, Natalie Portman', 'genre': 'science fiction comedy', 'plot': 'In Kentucky, a family watches in confusion as a herd of cattle starts running past their home, on fire. A spaceship explodes before it returns to Mars, and hundreds of other Martian ships leave Mars and head towards Earth. President James Dale, along with his aides, addresses the United States concerning the historic event. The President\\'s science aides set up a first contact meeting with the Martians in Pahrump, Nevada as President Dale watches the development on TV with his wife Marsha and his daughter Taffy.\\r\\nUsing a translation machine, the Ambassador of Mars announces that they \"come in peace\". When a hippie releases a dove as a symbol of peace, the Ambassador shoots it before he and the other Martians slaughter a large number of people at the event, including General Casey, news reporter Jason Stone and Billy-Glenn Norris before capturing chat-show host Nathalie Lake and her pet Chihuahua.\\r\\nThinking that the Martians assumed that the dove was a symbol of war, President Dale tells Professor Donald Kessler to renegotiate with the Martians, whose ambassador is invited to address the United States Congress. At this meeting, the Martians massacre most of Congress. Donald begs the Martian Ambassador to stop, but is rendered unconscious and taken aboard their ship, where he is later shown with his body parts dismembered and his disembodied head remaining animated. General Decker tries to convince President Dale to retaliate with nuclear warfare, but the President refuses.\\r\\nAfter a failed attempt to assassinate President Dale, the Martians invade Earth, starting with Washington, D.C. As they attack the White House, the Secret Service evacuates the President, but the First Lady Marsha is crushed to death by the Nancy Reagan chandelier. Taffy vanishes during the chaos. After the U.S. government unsuccessfully attempts a nuclear attack on the mother ship, the Martians expand their invasion to the rest of the Earth, defacing world landmarks for amusement as they do so. That night, the Martians breach the bunker where Dale has been taken and the leader reduces Decker to the size of an insect before killing him. The Martians kill everyone else in the bunker except for Dale, who makes an impassioned speech in an attempt to plea for peace and his life. The Martians seem convinced, but then use a false hand to kill the President.\\r\\nAs the Martians ravage Las Vegas, Byron Williams, a former world champion boxer, leads a small group of survivors consisting of Barbara Land, Tom Jones, a waitress named Cindy, and a lawyer to an airfield in the hopes of flying a small jet to safety. They barely make it, losing the lawyer in the process, but discover a large group of Martians stationed there as they are preparing to take off. Byron creates a diversion by challenging them to a fistfight. While he succeeds in killing the Ambassador, he is outnumbered and overwhelmed, but Tom, Barbara, and Cindy escape.\\r\\nBilly-Glenn\\'s brother Richie discovers that the Martians\\' heads explode when they hear Slim Whitman\\'s \"Indian Love Call\". He and his grandmother Florence drive around town, using the song to kill Martians. The military thereafter broadcast the song around the globe, killing most of the Martians and their leader, and causing the few remaining survivors to try to flee. Nathalie and Donald\\'s disembodied heads kiss while the Martian spaceship they are on crashes into the ocean.\\r\\nIn the aftermath, Richie and Florence are awarded the Medal of Honor by Taffy, the only surviving member of the government. Byron, who survived the Martian brawl, arrives in D.C. to reunite with his former wife and their two sons as the devastation is being cleaned up. Barbara, Cindy, and Tom Jones emerge from a cave with some animals to see dozens of crashed Martian ships in Lake Tahoe.', 'year': 1996, 'wiki_page': 'https://en.wikipedia.org/wiki/Mars_Attacks!'}}, {'_index': 'movies', '_id': '19624', '_score': 4.982084, '_source': {'title': 'Jigsaw', 'ethnicity': 'British', 'director': 'Val Guest', 'cast': 'Jack Warner, Ronald Lewis', 'genre': 'crime', 'plot': 'A woman is murdered and partially dismembered in Saltdean, near Brighton. Two local detectives, following up a simple burglary of an estate agent\\'s office, discover the body and take on the investigation of the murder. The victim is unidentified and the murder suspect is an unknown man who has used a false identity to rent the house in which the crime was committed. The detectives methodically develop and follow up leads to identify both, mostly in Brighton, but also further afield in Lewes and Greenwich. One lead appears to identify the victim, but their follow-up reveals that the name is of a woman not only still living, but who was almost a second victim as well. They track down and arrest the suspect described by several persons as the man who leased the house, but the case takes an unexpected turn when he makes his statement confirming what the witnesses saw. After the victim is positively identified, the veteran inspector leading the case develops a \"wild idea\" on the identity of the suspect, then orders a standard procedure that confirms his theory in a non-standard fashion. The murderer\\'s contention that the death was accidental appears to be foolproof until the detectives realize he has tripped himself up in a single crucial detail.[2]', 'year': 1962, 'wiki_page': 'https://en.wikipedia.org/wiki/Jigsaw_(1962_film)'}}]}})"
      ]
     },
     "execution_count": 7,
     "metadata": {},
     "output_type": "execute_result"
    }
   ],
   "source": [
    "resp = es.search(\n",
    "    index=\"movies\",\n",
    "    query={\n",
    "        \"bool\": {\n",
    "            \"must\": {\n",
    "                \"match\": {\n",
    "                    \"cast\": {\"query\": \"jack nicholson\"},\n",
    "                }\n",
    "            },\n",
    "            \"filter\": {\"bool\": {\"must_not\": {\"match\": {\"director\": \"roman polanksi\"}}}},\n",
    "        },\n",
    "    },\n",
    ")\n",
    "resp"
   ]
  },
  {
   "cell_type": "code",
   "execution_count": 8,
   "id": "3140222c",
   "metadata": {},
   "outputs": [
    {
     "data": {
      "text/plain": [
       "ObjectApiResponse({'took': 17, 'timed_out': False, '_shards': {'total': 1, 'successful': 1, 'skipped': 0, 'failed': 0}, 'hits': {'total': {'value': 83, 'relation': 'eq'}, 'max_score': 10.9237385, 'hits': [{'_index': 'movies', '_id': '8812', '_score': 10.9237385, '_source': {'title': 'The King of Marvin Gardens', 'ethnicity': 'American', 'director': 'Bob Rafelson', 'cast': 'Jack Nicholson, Ellen Burstyn, Bruce Dern', 'genre': 'drama', 'plot': \"David and Jason are estranged brothers, the former a depressive living with his grandfather in Philadelphia where he runs a late-night radio talk show and the latter an extrovert con man working for gang boss Lewis in Atlantic City, where he lives with the manic-depressive Sally, former beauty queen and prostitute, and her stepdaughter Jessica. Begging David to come to Atlantic City and bail him out of jail, Jason once freed persuades him to stay on in his hotel suite with the two women.\\r\\nTensions grow between the four as Jason pursues a ludicrous dream of conning a Japanese syndicate into buying a Hawaiian island where he will build and run a casino. The sceptical David has no faith in Jason's scam, while Jason chides David for wallowing in his dark, lonely depressed life. Sally, increasingly neurotic over losing her looks, cuts off her hair and throws away her cosmetics. When Jason starts packing to leave for Hawaii, in rage and despair she shoots him dead. David escorts his brother's corpse home to Philadelphia by train.\", 'year': 1972, 'wiki_page': 'https://en.wikipedia.org/wiki/The_King_of_Marvin_Gardens'}}, {'_index': 'movies', '_id': '9140', '_score': 10.9237385, '_source': {'title': 'The Fortune', 'ethnicity': 'American', 'director': 'Mike Nichols', 'cast': 'Warren Beatty, Jack Nicholson, Stockard Channing', 'genre': 'comedy', 'plot': 'Nicky Wilson (Beatty) and Oscar Sullivan (Nicholson) are inept 1920s scam artists in Northeastern United States who see pay dirt in the guise of Fredericka Quintessa \"Freddie\" Bigard (Stockard Channing), the millionaire heiress to a sanitary napkin fortune. She loves the already married Nicky, but because the Mann Act prohibits him from taking her across state lines and engaging in immoral relations, he proposes that she marry Oscar and then carry on an affair with the man she wants. Oscar, who is wanted for embezzlement and anxious to get out of town, is happy to comply with the plan, although he intends to claim his spousal privileges after they are wed.\\r\\nOnce they reach Los Angeles, the men try everything they can to separate Freddie from her inheritance without success, but with sufficient determination to arouse her suspicions. When she announces her plan to donate her money to charity, Nicky and Oscar conclude that murder might be their only recourse if they\\'re going to get rich quick. Eventually arrested for the murder, Nicky and Oscar confess everything to the L.A.P.D.. This leads to unusual complications when the arresting detective meets the very-alive Fredddie, who passed out and was oblivious to the entire \"murder\", and is shocked to hear the story.', 'year': 1975, 'wiki_page': 'https://en.wikipedia.org/wiki/The_Fortune'}}, {'_index': 'movies', '_id': '10871', '_score': 10.287027, '_source': {'title': 'The Witches of Eastwick', 'ethnicity': 'American', 'director': 'George Miller', 'cast': 'Susan Sarandon, Cher, Michelle Pfeiffer, Jack Nicholson', 'genre': 'comedy', 'plot': 'Alexandra Medford (Cher), Jane Spofford (Susan Sarandon), and Sukie Ridgemont (Michelle Pfeiffer) are three dissatisfied women living in the picturesque town of Eastwick, Rhode Island. Alex is a sculptor and single mother of one daughter; Jane is a newly divorced music teacher unable to have children; while Sukie has six daughters and works as a columnist for the Eastwick Word, the local newspaper. The three friends all have lost their husbands (Alex\\'s died, Jane\\'s divorced her, and Sukie\\'s abandoned her). Unaware that they are witches, the women unwittingly form a coven where they have weekly get-togethers and share their fantasies about ideal men.\\r\\nA mysterious man (Jack Nicholson) arrives in town and stirs up trouble by buying the town\\'s landmark property: the Lennox Mansion. The arrival of this enigmatic stranger fascinates the townsfolk, all except for Felicia Alden (Veronica Cartwright), the devoutly religious wife of newspaper editor Clyde Alden (Richard Jenkins), Sukie\\'s boss. Felicia senses that this man (whose name is easily forgotten) is up to no good. One night, at one of Jane\\'s music recitals, the strange man appears and makes a spectacle of himself, which leads to more gossip. After the recital, Jane receives a bouquet of flowers with the initial D written on it. This sparks Sukie\\'s memory, finally revealing the man\\'s name as Daryl Van Horne. However, as chaos over the name spreads through the crowd, Sukie\\'s bead necklace inexplicably breaks and falls to the floor, causing Felicia (who had mocked Daryl\\'s name) to trip down a large staircase and break her leg.\\r\\nThe following day, Daryl sets out to seduce Alex. As he converses with her, he says insensitive, disgusting, and rude things every time he speaks. Appalled, she tells him off, refuses his amorous advances, and begins to walk out. Before she opens the door, he speaks to her, manipulating her emotions until she eventually agrees. The next morning, Daryl visits the shy and insecure Jane. As the two sit down and share polite conversation, Jane explains that the Lennox Mansion was built on a site where alleged witches were burned at the stake. Later that night, Daryl encourages Jane to play her cello with wild abandon, never before achieved, playing faster and faster while accompanied by Daryl on the piano, until finally the strings break, the cello bursts into flame, and Jane flings herself upon Daryl with passion. The following week, Daryl invites all three of the women to his mansion, his sights now on Sukie. Later, as envy and rivalry emerge among the women, they inadvertently levitate a tennis ball. Finally aware of their magical abilities, the women agree to share Daryl.\\r\\nAs the women spend more time at Daryl\\'s mansion, Felicia spreads rumors about their indecency. Alex, Jane, and Sukie become social outcasts. As the witches begin to question their loyalty to Daryl, he causes them to unknowingly cast a spell against Felicia. Later that night, while ranting to her husband about Daryl being the Devil, Felicia begins to vomit cherry stones. Horrified by her uncontrollable behavior, Clyde kills her with a fire poker.\\r\\nAfter Felicia\\'s death, the three women become fearful of their powers and agree to avoid each other and Daryl until the situation has quieted down. Upset by this abandonment, Daryl uses his own powers to bring their worst fears to life. Alex awakens to a bed full of snakes; Jane\\'s body begins rapidly aging; and Sukie experiences sudden, agonizing pain. Realizing the only way to get rid of Daryl is by using witchcraft against him, the women reunite with him, pretending to have made amends.\\r\\nThe next morning, Daryl sets out to buy bagels and ice cream, as per the request of the three women. While he is out of the mansion, Alex uses wax and Daryl\\'s hair to create a voodoo doll in his image and the three women begin to harm the doll, hoping that Daryl will leave as a result. As the spell takes effect, Daryl - still in town - is buffeted by a sudden wind and begins to feel excruciating pain (each event corresponding to something the doll undergoes). He runs inside a church to hide from the wind and finds it full of people praying. Realizing the source of his troubles, he begins ranting about the women, cursing them as a group before vomiting cherry pits like Felicia did. An enraged Daryl then races home to punish the witches for their betrayal. Realizing their plot to make Daryl leave was ineffective, they attempt to hide their spell and toss the voodoo doll into a fire just as he enters the mansion. Daryl vanishes as a result, but not before reverting to a large, monstrous form that attempts to shake the mansion apart.\\r\\nEighteen months later, the women are living together in Daryl\\'s mansion, each with a new baby son (each boy shares his mother\\'s hair color). The boys are playing together when Daryl appears on a wall filled with video screens and invites them to \"give Daddy a kiss.\" Before they can do so, Alex, Jane, and Sukie appear and switch off the televisions.', 'year': 1987, 'wiki_page': 'https://en.wikipedia.org/wiki/The_Witches_of_Eastwick_(film)'}}, {'_index': 'movies', '_id': '10742', '_score': 7.9655814, '_source': {'title': 'Ironweed', 'ethnicity': 'American', 'director': 'Héctor Babenco', 'cast': \"Jack Nicholson, Meryl Streep, Tom Waits, Fred Gwynne; Michael O'Keefe, Carroll Baker\", 'genre': 'drama', 'plot': \"Francis Phelan (Jack Nicholson) is a washed-up baseball player who deserted his family back in the 1910s when he accidentally dropped his son and killed him. It is assumed in the film that he was drunk at the time until he later claims he was just tired and doesn't understand why no one will believe in his story. Since then, Phelan has been a bum, punishing himself. Wandering into his hometown of Albany on Halloween in 1938, Phelan seeks out his lover and drinking companion, Helen Archer (Meryl Streep). The two meet up in a mission managed by Reverend Chester (James Gammon), and later in Oscar Reo's (Fred Gwynne) gin mill.\\r\\nOver the next few days, Phelan takes a few minor jobs to support Helen, while haunted by visions of his past. Francis comes back to his old family house and tries to make peace with his wife Annie Phelan (Carroll Baker), his son Billy (Michael O'Keefe) and Peg (Diane Venora). Meanwhile, a group of local vigilantes take it upon themselves to drive the homeless out of Albany. During the course of the day, a series of events change Francis' life forever.\", 'year': 1987, 'wiki_page': 'https://en.wikipedia.org/wiki/Ironweed_(film)'}}, {'_index': 'movies', '_id': '14362', '_score': 7.9655814, '_source': {'title': \"Something's Gotta Give\", 'ethnicity': 'American', 'director': 'Nancy Meyers', 'cast': 'Jack Nicholson, Diane Keaton, Keanu Reeves, Amanda Peet, Frances McDormand, Jon Favreau', 'genre': 'romantic comedy', 'plot': 'Harry Sanborn is a wealthy New York music mogul who has had a 40-year habit of dating women under 30, including his latest conquest, Marin Klein. The two drive to her mother\\'s Hamptons beach house expecting to be alone, but are surprised by Marin\\'s mother, successful playwright Erica Barry, who is there with her sister Zoe.\\r\\nAfter an awkward dinner, the night turns disastrous when — during foreplay with Marin — Harry has a heart attack and is rushed to a hospital. The doctor, Julian Mercer, tells Harry to stay nearby for a few days, so Harry ends up staying with Erica. Their personalities clash and make for awkward living arrangements—until they get to know each other. The fact that Harry is dating her daughter and that Julian has fallen for Erica leave the two struggling to deal with relationships.\\r\\nMarin and Harry agree to break up. He and Erica spend more time together and eventually consummate their relationship. Harry discovers that his improving health means that he no longer has to stay with Erica, so he heads home.\\r\\nMarin receives news that her father, Dave Klein, Erica\\'s ex-husband, whom Erica still allows to direct her plays, is getting remarried to Kristen, an ear, nose and throat doctor who is only two years older than Marin. Although Erica is unaffected by the news, Marin is devastated and pressures her mother into accompanying her to a family dinner. Erica is the life of the party until she sees Harry at another table with another woman. In the argument that follows, Harry suffers from what he believes is another heart attack, but he is told by the young ER physician, Dr. Martinez, who treats him like her father, that it was only a panic attack.\\r\\nAlthough she is heartbroken, Erica figures that these events would be great to use in a play. Harry hears about it and rushes to the NYC theater where it is being rehearsed. Despite her denials, it is quickly obvious that she has used the most personal details of their affair in the play. Erica coolly rebuffs his every insinuation that he cares about her and hints that his character will die in the play—for a laugh. He then has another panic attack and is again treated by Dr.\\xa0Martinez, who warns him that he needs to learn to \"decompress\".\\r\\nSix months pass. Erica\\'s play is a huge success. Harry pays Marin a visit to apologize for anything he ever did to hurt her. She replies that he was nothing but nice to her and happily tells him that she is pregnant and has a new husband. Harry expresses a desire to see Erica. Marin tells him that her mother is in Paris celebrating her birthday. Harry decides to surprise Erica. Remembering how they had once planned to spend their birthdays together there, he shows up at the Parisian restaurant where she is seated at a table. Harry explains that over the past six months he reached out to all of the women he ever had affairs with, and even though repeatedly rebuffed at first, finally broke through. They all had identical harsh stories that helped him learn how \"I arrived at being me.\" He tells Erica that his trip to find her was the last and the farthest. Julian appears. All along, Erica has been waiting at the restaurant for Julian, whom she is now dating.\\r\\nHarry and Erica get along well during the dinner, but they part outside the restaurant. While he is gazing in heartache over the river Seine, Erica pulls up in a taxi. She explains that Julian figured out what was happening between them and decided to step aside to let her be with Harry. Harry explains that his search the last six months has made him realize he truly loves Erica. Harry and Erica kiss.\\r\\nA year later, at a New York restaurant, Erica and Harry, now married, are out with Marin, her husband and her new baby daughter, as one big happy family.', 'year': 2003, 'wiki_page': 'https://en.wikipedia.org/wiki/Something%27s_Gotta_Give_(film)'}}, {'_index': 'movies', '_id': '11550', '_score': 6.747442, '_source': {'title': 'The Two Jakes', 'ethnicity': 'American', 'director': 'Jack Nicholson', 'cast': 'Jack Nicholson, Harvey Keitel, Meg Tilly, Madeleine Stowe, Eli Wallach, Ruben Blades, Perry Lopez, Richard Farnsworth', 'genre': 'crime drama', 'plot': 'In Los Angeles in 1948, Julius \"Jake\" Berman hires private investigator J. J. \"Jake\" Gittes to catch his wife, Kitty, in the act of committing adultery. During the sting, Berman kills his rival, who also happens to be his business partner in a real estate development company. Gittes, not having known this, suddenly finds himself under scrutiny for his role in the possible crime, all of which centers around a wire recording that captured the illicit love meeting, the confrontation, and the killing of Mark Bodine. It calls into question if Berman knew and killed his partner to wrest control of the partnership, making it murder, or was an act of jealousy, which may qualify as \"temporary insanity\" and be permitted as a defense to a charge of murder.\\r\\nGittes must convince LAPD captain Escobar that he should not be charged as an accomplice. Oddly, Berman seems unconcerned with the possibility that he may be accused of murder. Gittes has the recording, which Berman\\'s attorney, Cotton Weinberger, and mobster friend Mickey Nice, both want, locked in a safe in his office in L.A., which is being rocked by earthquakes. Berman\\'s housing development in the Valley also is experiencing seismic activities. Gittes is nearly killed in a gas explosion, waking to find Berman and wife, Kitty, standing over him.\\r\\nGittes has a confrontation, and later a sexual encounter, with Lilian Bodine, the dead man\\'s angry widow. He is presented with proof that Earl Rawley, a wealthy and ruthless oil man, may be drilling under the Bodine and Berman development, though Rawley has denied it. This leads to a need to determine who owns the mineral rights to the land. Gittes discovers that the rights are owned by one Katherine Mulwray, daughter of Evelyn Mulwray, his love interest from twelve years prior. He also discovers that the deed transfers were executed in such a way as to attempt to hide Katherine Mulwray\\'s prior ownership and continued claim of the mineral rights.\\r\\nGittes operatives have seen Berman in the company of a blond woman along with Mickey, and a bodyguard. With a bit of sleuthing Gittes determines that the woman is an oncologist and is treating Berman for cancer somewhere below the waist. Gittes confronts Berman with this knowledge and gets a full confession. Along the way, Gittes discovers that Berman is not going to survive and the entire set-up was to ensure that Kitty was protected once he died.\\r\\nIn order to get Kitty to talk to him, Gittes must prove that Berman set out to kill his partner. Once accomplished, Kitty agrees to meet Gittes and tell him what she knows about Berman. In the process of discussing Berman\\'s possible motivations, mineral rights, and the possible whereabouts of Katherine, it is revealed that Kitty and Katherine are the same person. Kitty had never suspected that her husband is dying.\\r\\nIn order to prove premeditation, passion, and perhaps even connections to a woman long missing, seemingly everyone wants the recording, which Gittes refuses to give up until the day of the inquest. Somehow, Gittes edits the recording, leaving Katherine\\'s name chopped out of the dialog, shooting, and aftermath of Lillian\\'s murder. This makes the inquest a short, satisfying meeting where the judge has no reason to suspect murder, and Berman is now free of criminal charges. Confronted with the knowledge Gittes has of his terminal illness, Berman, knowing the model house he is in is filled with natural gas, convinces Gittes and Mickey to leave him alone in the house so he can \"have a smoke.\" He doesn\\'t want an autopsy to interfere with Kitty\\'s inheritance. As they drive off, the house explodes.\\r\\nThe story ends with Kitty and Gittes in his office. They speak of regrets, and Kitty kisses Gittes, who rejects her advances, saying \"That\\'s your problem, kid. You don\\'t know who you\\'re kidding.\" She leaves, telling him to \"Think of me time to time\". Gittes tells her, \"It never goes away.\"', 'year': 1990, 'wiki_page': 'https://en.wikipedia.org/wiki/The_Two_Jakes'}}, {'_index': 'movies', '_id': '7654', '_score': 6.420705, '_source': {'title': 'Red Nightmare', 'ethnicity': 'American', 'director': 'George Waggner', 'cast': 'Jack Webb, Jack Kelly', 'genre': 'drama', 'plot': \"A man takes his American freedoms for granted, until he wakes up one morning to find out that the United States Government has been replaced with a Communist system. The basis for this short film, narrated by Jack Webb, is the alleged Soviet re-creation of US communities for the purpose of training infiltrators, spies, and moles.\\r\\nThe film begins in what looks like a typical American town. The camera moves back to reveal barbed wire, barricades, and soldiers in Soviet Army uniforms. Narrator Jack Webb informs us that there are several places behind the Iron Curtain used for training Soviet espionage and sabotage forces prior to infiltrating America.\\r\\nWebb introduces us to a typical American family of father Jerry (Jack Kelly), wife Helen (Jeanne Cooper), and daughter Linda (Patricia Woodell, the original Bobbie Jo on Petticoat Junction) Donovan. Her boyfriend Bill Martin (Peter Brown) has been invited to dinner but while Jerry lectures Bill on football plays, Bill only has eyes for Linda. All is not well, as Jerry's missing his PTA meeting to go bowling, and his intention to miss his Army Reserve training does not go over well with Helen. Linda and Bill inform Jerry and Helen they wish to get married but Jerry is angered and says they are too young, but he would have no objection if they waited five years after university.\\r\\nJack Webb explains how safe Jerry is in his world, but when Jerry goes to sleep, Webb looks grim and tells the audience Jerry is going to have a Red Nightmare.\\r\\nJerry awakes to find meetings in the public square about infiltrating America to bring down Capitalism. He returns home to find his daughter going to a farm collective escorted by Bill, who is now in Russian Army uniform. Helen informs Jerry that he will have to address the PTA on the glories of communism, which Jerry refuses to do, but his wife says he has no choice. At work, Jerry's foreman (Robert Conrad) tells him that he has not met his quota and must work through the lunch break to meet it. On Sunday morning, Jerry wakes to find his two youngest children being sent to a State Communist school against his wishes. Jerry insists on the children going to Sunday School, and takes them to their church that has been turned into a museum glorifying the Soviet Union, including many inventions made by Americans which the Soviets claim to have invented. Jerry knocks the exhibits over, and is arrested by troops led by a Commissar (Peter Breck).\\r\\nJerry is brought to trial at a Soviet tribunal (Judge, Andrew Duggan; prosecutor, Mike Road), where there is no jury nor a defense attorney. Jerry demands to know what he is charged with, but the rights Americans take for granted are long gone. After condemning testimony from several witnesses, including his own wife, Jerry is convicted and sentenced to death. When he is strapped into the execution chair, Jerry makes a speech about the Soviet people awakening one day to overthrow communism, before he gets a bullet in the head from the Commissar (the killing is offscreen).\\r\\nJerry wakes up to his freedoms and apologizes to Bill and Linda. Bill says that Jerry had a point about waiting to get married and he and Linda will do so after he finishes his enlistment in the United States Army.\", 'year': 1962, 'wiki_page': 'https://en.wikipedia.org/wiki/Red_Nightmare'}}, {'_index': 'movies', '_id': '10365', '_score': 5.2568903, '_source': {'title': 'Fletch', 'ethnicity': 'American', 'director': 'Michael Ritchie', 'cast': 'Chevy Chase, Joe Don Baker, Dana Wheeler-Nicholson, Geena Davis', 'genre': 'comedy', 'plot': 'Los Angeles Times reporter Irwin \"Fletch\" Fletcher (Chase) is writing an article exposing drug trafficking on the beaches of Los Angeles. Posing as an addict during his investigation, he is approached by Boyd Aviation executive vice president Alan Stanwyk (Matheson) who mistakenly assumes Fletch is a junkie. Stanwyk claims to have bone cancer, with only months left to live, and wishes to avoid the pain and suffering. Stanwyk offers $50,000 for Fletch to come to his mansion in a few days time, kill him, and then escape to Rio de Janeiro, staging the murder to look like a burglary.\\r\\nFletch, while not completely convinced on the truth of Stanwyk\\'s story, reluctantly agrees to the plan. Along with his colleague Larry (Davis), he begins investigating Stanwyk instead of completing his drug trafficking exposé, much to the disapproval of his overbearing editor Frank Walker (Libertini). Disguised as a doctor, Fletch accesses Stanwyk\\'s file at the hospital and learns Stanwyk lied about having cancer.\\r\\nFletch visits Stanwyk\\'s wife Gail (Wheeler-Nicholson) at her tennis club. Pretending to be a tennis instructor and friend of Alan\\'s, he flirts with her during an impromptu tennis lesson. Looking into Stanwyk\\'s finances, Fletch finds that Gail recently converted $3 million of her personal stock in Boyd Aviation into cash for her husband, to buy a ranch in Provo, Utah. Fletch breaks into the realtor\\'s office and discovers the deed lists the sale price as only $3,000.\\r\\nMeanwhile, LAPD Chief Jerry Karlin (Baker) learns of Fletch\\'s drug article. He warns Fletch that the article will jeopardize his undercover operation on the beach. Karlin threatens to kill Fletch unless he agrees to drop the investigation. At the tennis club, Fletch overhears an arrogant club member, Mr. Underhill, insulting a waiter and decides to use Underhill\\'s tab to treat Gail to an expensive lunch in her private cabana. Fletch reveals Alan\\'s murder scheme to her and tells her the true price of the ranch.\\r\\nFletch watches Stanwyk making a suspicious briefcase exchange with Chief Karlin, but is unable to determine the nature of their relationship. He returns home to find LAPD officers lying in wait at his apartment. He flees, but is pursued in a harrowing car chase. Forced to go into hiding, Fletch returns to Provo. Posing as an insurance investigator, he interviews Stanwyk\\'s parents. Fletch discovers Stanwyk has been secretly married to another woman for eight years; his bigamous marriage to Gail allowed him access to her personal wealth.\\r\\nFletch arrives at Stanwyk\\'s mansion on the night of the planned murder, but finds Stanwyk prepared to kill him instead. Fletch reveals his discovery of Stanwyk\\'s real plan: to fake his own death by killing Fletch and burning his body beyond recognition, then escape to Brazil with his first wife and Gail\\'s $3 million. Stanwyk was also using his private jet to smuggle cocaine from South America to supply Chief Karlin, who blackmailed ex-convicts to peddle it on the beaches. Karlin arrives unexpectedly; learning of Stanwyk\\'s intention to flee with $800,000 of the Chief\\'s drug money, he kills Stanwyk. Karlin and Fletch fight over the gun until Gail strikes Karlin from behind, rendering him unconscious.\\r\\nKarlin is indicted with Fletch\\'s testimony. Fletch begins dating Gail and, in the final scene, takes her on a vacation to Rio, again using Mr. Underhill\\'s tab.', 'year': 1985, 'wiki_page': 'https://en.wikipedia.org/wiki/Fletch_(film)'}}, {'_index': 'movies', '_id': '12772', '_score': 5.167083, '_source': {'title': 'Mars Attacks!', 'ethnicity': 'American', 'director': 'Tim Burton', 'cast': 'Jack Nicholson, Glenn Close, Annette Bening, Pierce Brosnan, Danny DeVito, Jim Brown, Sarah Jessica Parker, Martin Short, Michael J. Fox, Lukas Haas, Natalie Portman', 'genre': 'science fiction comedy', 'plot': 'In Kentucky, a family watches in confusion as a herd of cattle starts running past their home, on fire. A spaceship explodes before it returns to Mars, and hundreds of other Martian ships leave Mars and head towards Earth. President James Dale, along with his aides, addresses the United States concerning the historic event. The President\\'s science aides set up a first contact meeting with the Martians in Pahrump, Nevada as President Dale watches the development on TV with his wife Marsha and his daughter Taffy.\\r\\nUsing a translation machine, the Ambassador of Mars announces that they \"come in peace\". When a hippie releases a dove as a symbol of peace, the Ambassador shoots it before he and the other Martians slaughter a large number of people at the event, including General Casey, news reporter Jason Stone and Billy-Glenn Norris before capturing chat-show host Nathalie Lake and her pet Chihuahua.\\r\\nThinking that the Martians assumed that the dove was a symbol of war, President Dale tells Professor Donald Kessler to renegotiate with the Martians, whose ambassador is invited to address the United States Congress. At this meeting, the Martians massacre most of Congress. Donald begs the Martian Ambassador to stop, but is rendered unconscious and taken aboard their ship, where he is later shown with his body parts dismembered and his disembodied head remaining animated. General Decker tries to convince President Dale to retaliate with nuclear warfare, but the President refuses.\\r\\nAfter a failed attempt to assassinate President Dale, the Martians invade Earth, starting with Washington, D.C. As they attack the White House, the Secret Service evacuates the President, but the First Lady Marsha is crushed to death by the Nancy Reagan chandelier. Taffy vanishes during the chaos. After the U.S. government unsuccessfully attempts a nuclear attack on the mother ship, the Martians expand their invasion to the rest of the Earth, defacing world landmarks for amusement as they do so. That night, the Martians breach the bunker where Dale has been taken and the leader reduces Decker to the size of an insect before killing him. The Martians kill everyone else in the bunker except for Dale, who makes an impassioned speech in an attempt to plea for peace and his life. The Martians seem convinced, but then use a false hand to kill the President.\\r\\nAs the Martians ravage Las Vegas, Byron Williams, a former world champion boxer, leads a small group of survivors consisting of Barbara Land, Tom Jones, a waitress named Cindy, and a lawyer to an airfield in the hopes of flying a small jet to safety. They barely make it, losing the lawyer in the process, but discover a large group of Martians stationed there as they are preparing to take off. Byron creates a diversion by challenging them to a fistfight. While he succeeds in killing the Ambassador, he is outnumbered and overwhelmed, but Tom, Barbara, and Cindy escape.\\r\\nBilly-Glenn\\'s brother Richie discovers that the Martians\\' heads explode when they hear Slim Whitman\\'s \"Indian Love Call\". He and his grandmother Florence drive around town, using the song to kill Martians. The military thereafter broadcast the song around the globe, killing most of the Martians and their leader, and causing the few remaining survivors to try to flee. Nathalie and Donald\\'s disembodied heads kiss while the Martian spaceship they are on crashes into the ocean.\\r\\nIn the aftermath, Richie and Florence are awarded the Medal of Honor by Taffy, the only surviving member of the government. Byron, who survived the Martian brawl, arrives in D.C. to reunite with his former wife and their two sons as the devastation is being cleaned up. Barbara, Cindy, and Tom Jones emerge from a cave with some animals to see dozens of crashed Martian ships in Lake Tahoe.', 'year': 1996, 'wiki_page': 'https://en.wikipedia.org/wiki/Mars_Attacks!'}}, {'_index': 'movies', '_id': '19624', '_score': 4.982084, '_source': {'title': 'Jigsaw', 'ethnicity': 'British', 'director': 'Val Guest', 'cast': 'Jack Warner, Ronald Lewis', 'genre': 'crime', 'plot': 'A woman is murdered and partially dismembered in Saltdean, near Brighton. Two local detectives, following up a simple burglary of an estate agent\\'s office, discover the body and take on the investigation of the murder. The victim is unidentified and the murder suspect is an unknown man who has used a false identity to rent the house in which the crime was committed. The detectives methodically develop and follow up leads to identify both, mostly in Brighton, but also further afield in Lewes and Greenwich. One lead appears to identify the victim, but their follow-up reveals that the name is of a woman not only still living, but who was almost a second victim as well. They track down and arrest the suspect described by several persons as the man who leased the house, but the case takes an unexpected turn when he makes his statement confirming what the witnesses saw. After the victim is positively identified, the veteran inspector leading the case develops a \"wild idea\" on the identity of the suspect, then orders a standard procedure that confirms his theory in a non-standard fashion. The murderer\\'s contention that the death was accidental appears to be foolproof until the detectives realize he has tripped himself up in a single crucial detail.[2]', 'year': 1962, 'wiki_page': 'https://en.wikipedia.org/wiki/Jigsaw_(1962_film)'}}]}})"
      ]
     },
     "execution_count": 8,
     "metadata": {},
     "output_type": "execute_result"
    }
   ],
   "source": [
    "resp"
   ]
  },
  {
   "cell_type": "markdown",
   "id": "a8bdb907",
   "metadata": {},
   "source": [
    "## 7️⃣ Delete documents from the index\n",
    "\n",
    "This will delete the document 9140 from the index:"
   ]
  },
  {
   "cell_type": "code",
   "execution_count": 9,
   "id": "846541e5",
   "metadata": {},
   "outputs": [
    {
     "data": {
      "text/plain": [
       "ObjectApiResponse({'_index': 'movies', '_id': '9140', '_version': 2, 'result': 'deleted', '_shards': {'total': 2, 'successful': 1, 'failed': 0}, '_seq_no': 5000, '_primary_term': 1})"
      ]
     },
     "execution_count": 9,
     "metadata": {},
     "output_type": "execute_result"
    }
   ],
   "source": [
    "es.delete(index = \"movies\", id = \"9140\")"
   ]
  },
  {
   "cell_type": "markdown",
   "id": "3f0c47ad",
   "metadata": {},
   "source": [
    " ## 8️⃣ Delete an index"
   ]
  },
  {
   "cell_type": "markdown",
   "id": "64063ed6",
   "metadata": {},
   "source": [
    "If for whatever reason you'd like to delete an index (and all of its documents), here's how you do it:"
   ]
  },
  {
   "cell_type": "code",
   "execution_count": 10,
   "id": "77d561d6",
   "metadata": {},
   "outputs": [
    {
     "data": {
      "text/plain": [
       "ObjectApiResponse({'acknowledged': True})"
      ]
     },
     "execution_count": 10,
     "metadata": {},
     "output_type": "execute_result"
    }
   ],
   "source": [
    "es.options(ignore_status=[400,404]).indices.delete(index='movies')"
   ]
  }
 ],
 "metadata": {
  "kernelspec": {
   "display_name": "Python 3 (ipykernel)",
   "language": "python",
   "name": "python3"
  },
  "language_info": {
   "codemirror_mode": {
    "name": "ipython",
    "version": 3
   },
   "file_extension": ".py",
   "mimetype": "text/x-python",
   "name": "python",
   "nbconvert_exporter": "python",
   "pygments_lexer": "ipython3",
   "version": "3.10.4"
  },
  "vscode": {
   "interpreter": {
    "hash": "aee8b7b246df8f9039afb4144a1f6fd8d2ca17a180786b69acc140d282b71a49"
   }
  }
 },
 "nbformat": 4,
 "nbformat_minor": 5
}
