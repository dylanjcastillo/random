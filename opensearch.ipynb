{
 "cells": [
  {
   "cell_type": "markdown",
   "metadata": {},
   "source": [
    "# OpenSearch + Python 101"
   ]
  },
  {
   "cell_type": "markdown",
   "metadata": {},
   "source": [
    "## 0️⃣ Prerequisites\n",
    "\n",
    "Before you begin, a few things must be in place. Follow these steps: \n",
    "1. Install docker.\n",
    "2. Download the data.\n",
    "3. Create a virtual environment and install the required packages. You can create one with venv by running these commands in the terminal:\n",
    "```shell\n",
    "python3 -m venv .venv\n",
    "source .venv/bin/activate\n",
    "python3 -m pip install pandas==1.4.3 notebook==6.3.0 opensearch-py==2.0.0\n",
    "```"
   ]
  },
  {
   "cell_type": "markdown",
   "metadata": {},
   "source": [
    "## 1️⃣ Run a Local OpenSearch Cluster\n",
    "\n",
    "Using Docker is the simplest method for running OpenSearch locally. Run the following command in a terminal to launch a single-node cluster:\n",
    "\n",
    "```shell\n",
    "docker run -p 9200:9200 -p 9600:9600 -e \"discovery.type=single-node\" opensearchproject/opensearch:2.2.0\n",
    "```\n"
   ]
  },
  {
   "cell_type": "markdown",
   "metadata": {},
   "source": [
    "## 2️⃣ Connect to Your Cluster"
   ]
  },
  {
   "cell_type": "code",
   "execution_count": 1,
   "metadata": {},
   "outputs": [],
   "source": [
    "from opensearchpy import OpenSearch\n",
    "\n",
    "client = OpenSearch(\n",
    "    hosts = [{\"host\": \"localhost\", \"port\": 9200}],\n",
    "    http_auth = (\"admin\", \"admin\"),\n",
    "    use_ssl = True,\n",
    "    verify_certs = False,\n",
    "    ssl_assert_hostname = False,\n",
    "    ssl_show_warn = False,\n",
    ")"
   ]
  },
  {
   "cell_type": "code",
   "execution_count": 2,
   "metadata": {},
   "outputs": [
    {
     "data": {
      "text/plain": [
       "{'name': 'b4a9c514a1a6',\n",
       " 'cluster_name': 'docker-cluster',\n",
       " 'cluster_uuid': 'o0AejnfGRdOgIrBmesXuJQ',\n",
       " 'version': {'distribution': 'opensearch',\n",
       "  'number': '2.2.0',\n",
       "  'build_type': 'tar',\n",
       "  'build_hash': 'b1017fa3b9a1c781d4f34ecee411e0cdf930a515',\n",
       "  'build_date': '2022-08-09T02:28:05.169390805Z',\n",
       "  'build_snapshot': False,\n",
       "  'lucene_version': '9.3.0',\n",
       "  'minimum_wire_compatibility_version': '7.10.0',\n",
       "  'minimum_index_compatibility_version': '7.0.0'},\n",
       " 'tagline': 'The OpenSearch Project: https://opensearch.org/'}"
      ]
     },
     "execution_count": 2,
     "metadata": {},
     "output_type": "execute_result"
    }
   ],
   "source": [
    "client.info()"
   ]
  },
  {
   "cell_type": "markdown",
   "metadata": {},
   "source": [
    "## 3️⃣ Read the data"
   ]
  },
  {
   "cell_type": "code",
   "execution_count": 3,
   "metadata": {},
   "outputs": [],
   "source": [
    "import pandas as pd\n",
    "\n",
    "df = (\n",
    "\tpd.read_csv(\"wiki_movie_plots_deduped.csv\")\n",
    "    .dropna()\n",
    "    .sample(5000, random_state=42)\n",
    ")"
   ]
  },
  {
   "cell_type": "markdown",
   "metadata": {},
   "source": [
    "## 4️⃣ Create an index"
   ]
  },
  {
   "cell_type": "code",
   "execution_count": 4,
   "metadata": {},
   "outputs": [],
   "source": [
    "body = {\n",
    "    \"mappings\":{\n",
    "        \"properties\": {\n",
    "            \"title\": {\"type\": \"text\", \"analyzer\": \"english\"},\n",
    "            \"ethnicity\": {\"type\": \"text\", \"analyzer\": \"standard\"},\n",
    "            \"director\": {\"type\": \"text\", \"analyzer\": \"standard\"},\n",
    "            \"cast\": {\"type\": \"text\", \"analyzer\": \"standard\"},\n",
    "            \"genre\": {\"type\": \"text\", \"analyzer\": \"standard\"},\n",
    "            \"plot\": {\"type\": \"text\", \"analyzer\": \"english\"},\n",
    "            \"year\": {\"type\": \"integer\"},\n",
    "            \"wiki_page\": {\"type\": \"keyword\"}\n",
    "        }\n",
    "    }\n",
    "}\n",
    "response = client.indices.create(\"movies\", body=body)"
   ]
  },
  {
   "cell_type": "markdown",
   "metadata": {},
   "source": [
    "## 5️⃣ Add data yo your index"
   ]
  },
  {
   "cell_type": "markdown",
   "metadata": {},
   "source": [
    "### Using `client.index()`"
   ]
  },
  {
   "cell_type": "code",
   "execution_count": 5,
   "metadata": {},
   "outputs": [],
   "source": [
    "for i, row in df.iterrows():\n",
    "    body = {\n",
    "        \"title\": row[\"Title\"],\n",
    "        \"ethnicity\": row[\"Origin/Ethnicity\"],\n",
    "        \"director\": row[\"Director\"],\n",
    "        \"cast\": row[\"Cast\"],\n",
    "        \"genre\": row[\"Genre\"],\n",
    "        \"plot\": row[\"Plot\"],\n",
    "        \"year\": row[\"Release Year\"],\n",
    "        \"wiki_page\": row[\"Wiki Page\"]\n",
    "    }    \n",
    "    client.index(index=\"movies\", id=i, body=body)"
   ]
  },
  {
   "cell_type": "markdown",
   "metadata": {},
   "source": [
    "### Using `bulk()`"
   ]
  },
  {
   "cell_type": "code",
   "execution_count": 6,
   "metadata": {},
   "outputs": [
    {
     "data": {
      "text/plain": [
       "(5000, [])"
      ]
     },
     "execution_count": 6,
     "metadata": {},
     "output_type": "execute_result"
    }
   ],
   "source": [
    "from opensearchpy.helpers import bulk\n",
    "\n",
    "bulk_data = []\n",
    "for i,row in df.iterrows():\n",
    "    bulk_data.append(\n",
    "        {\n",
    "            \"_index\": \"movies\",\n",
    "            \"_id\": i,\n",
    "            \"_source\": {        \n",
    "                \"title\": row[\"Title\"],\n",
    "                \"ethnicity\": row[\"Origin/Ethnicity\"],\n",
    "                \"director\": row[\"Director\"],\n",
    "                \"cast\": row[\"Cast\"],\n",
    "                \"genre\": row[\"Genre\"],\n",
    "                \"plot\": row[\"Plot\"],\n",
    "                \"year\": row[\"Release Year\"],\n",
    "                \"wiki_page\": row[\"Wiki Page\"],\n",
    "            }\n",
    "        }\n",
    "    )\n",
    "bulk(client, bulk_data)"
   ]
  },
  {
   "cell_type": "code",
   "execution_count": 7,
   "metadata": {},
   "outputs": [
    {
     "data": {
      "text/plain": [
       "[{'epoch': '1661959644', 'timestamp': '15:27:24', 'count': '5000'}]"
      ]
     },
     "execution_count": 7,
     "metadata": {},
     "output_type": "execute_result"
    }
   ],
   "source": [
    "client.indices.refresh(index=\"movies\")\n",
    "client.cat.count(index=\"movies\", format=\"json\")"
   ]
  },
  {
   "cell_type": "markdown",
   "metadata": {},
   "source": [
    "## 6️⃣ Search your data\n"
   ]
  },
  {
   "cell_type": "code",
   "execution_count": 8,
   "metadata": {},
   "outputs": [
    {
     "data": {
      "text/plain": [
       "{'took': 4,\n",
       " 'timed_out': False,\n",
       " '_shards': {'total': 1, 'successful': 1, 'skipped': 0, 'failed': 0},\n",
       " 'hits': {'total': {'value': 7, 'relation': 'eq'},\n",
       "  'max_score': 10.95239,\n",
       "  'hits': [{'_index': 'movies',\n",
       "    '_id': '8812',\n",
       "    '_score': 10.95239,\n",
       "    '_source': {'title': 'The King of Marvin Gardens',\n",
       "     'ethnicity': 'American',\n",
       "     'director': 'Bob Rafelson',\n",
       "     'cast': 'Jack Nicholson, Ellen Burstyn, Bruce Dern',\n",
       "     'genre': 'drama',\n",
       "     'plot': \"David and Jason are estranged brothers, the former a depressive living with his grandfather in Philadelphia where he runs a late-night radio talk show and the latter an extrovert con man working for gang boss Lewis in Atlantic City, where he lives with the manic-depressive Sally, former beauty queen and prostitute, and her stepdaughter Jessica. Begging David to come to Atlantic City and bail him out of jail, Jason once freed persuades him to stay on in his hotel suite with the two women.\\r\\nTensions grow between the four as Jason pursues a ludicrous dream of conning a Japanese syndicate into buying a Hawaiian island where he will build and run a casino. The sceptical David has no faith in Jason's scam, while Jason chides David for wallowing in his dark, lonely depressed life. Sally, increasingly neurotic over losing her looks, cuts off her hair and throws away her cosmetics. When Jason starts packing to leave for Hawaii, in rage and despair she shoots him dead. David escorts his brother's corpse home to Philadelphia by train.\",\n",
       "     'year': 1972,\n",
       "     'wiki_page': 'https://en.wikipedia.org/wiki/The_King_of_Marvin_Gardens'}},\n",
       "   {'_index': 'movies',\n",
       "    '_id': '9140',\n",
       "    '_score': 10.95239,\n",
       "    '_source': {'title': 'The Fortune',\n",
       "     'ethnicity': 'American',\n",
       "     'director': 'Mike Nichols',\n",
       "     'cast': 'Warren Beatty, Jack Nicholson, Stockard Channing',\n",
       "     'genre': 'comedy',\n",
       "     'plot': 'Nicky Wilson (Beatty) and Oscar Sullivan (Nicholson) are inept 1920s scam artists in Northeastern United States who see pay dirt in the guise of Fredericka Quintessa \"Freddie\" Bigard (Stockard Channing), the millionaire heiress to a sanitary napkin fortune. She loves the already married Nicky, but because the Mann Act prohibits him from taking her across state lines and engaging in immoral relations, he proposes that she marry Oscar and then carry on an affair with the man she wants. Oscar, who is wanted for embezzlement and anxious to get out of town, is happy to comply with the plan, although he intends to claim his spousal privileges after they are wed.\\r\\nOnce they reach Los Angeles, the men try everything they can to separate Freddie from her inheritance without success, but with sufficient determination to arouse her suspicions. When she announces her plan to donate her money to charity, Nicky and Oscar conclude that murder might be their only recourse if they\\'re going to get rich quick. Eventually arrested for the murder, Nicky and Oscar confess everything to the L.A.P.D.. This leads to unusual complications when the arresting detective meets the very-alive Fredddie, who passed out and was oblivious to the entire \"murder\", and is shocked to hear the story.',\n",
       "     'year': 1975,\n",
       "     'wiki_page': 'https://en.wikipedia.org/wiki/The_Fortune'}},\n",
       "   {'_index': 'movies',\n",
       "    '_id': '10871',\n",
       "    '_score': 10.314009,\n",
       "    '_source': {'title': 'The Witches of Eastwick',\n",
       "     'ethnicity': 'American',\n",
       "     'director': 'George Miller',\n",
       "     'cast': 'Susan Sarandon, Cher, Michelle Pfeiffer, Jack Nicholson',\n",
       "     'genre': 'comedy',\n",
       "     'plot': 'Alexandra Medford (Cher), Jane Spofford (Susan Sarandon), and Sukie Ridgemont (Michelle Pfeiffer) are three dissatisfied women living in the picturesque town of Eastwick, Rhode Island. Alex is a sculptor and single mother of one daughter; Jane is a newly divorced music teacher unable to have children; while Sukie has six daughters and works as a columnist for the Eastwick Word, the local newspaper. The three friends all have lost their husbands (Alex\\'s died, Jane\\'s divorced her, and Sukie\\'s abandoned her). Unaware that they are witches, the women unwittingly form a coven where they have weekly get-togethers and share their fantasies about ideal men.\\r\\nA mysterious man (Jack Nicholson) arrives in town and stirs up trouble by buying the town\\'s landmark property: the Lennox Mansion. The arrival of this enigmatic stranger fascinates the townsfolk, all except for Felicia Alden (Veronica Cartwright), the devoutly religious wife of newspaper editor Clyde Alden (Richard Jenkins), Sukie\\'s boss. Felicia senses that this man (whose name is easily forgotten) is up to no good. One night, at one of Jane\\'s music recitals, the strange man appears and makes a spectacle of himself, which leads to more gossip. After the recital, Jane receives a bouquet of flowers with the initial D written on it. This sparks Sukie\\'s memory, finally revealing the man\\'s name as Daryl Van Horne. However, as chaos over the name spreads through the crowd, Sukie\\'s bead necklace inexplicably breaks and falls to the floor, causing Felicia (who had mocked Daryl\\'s name) to trip down a large staircase and break her leg.\\r\\nThe following day, Daryl sets out to seduce Alex. As he converses with her, he says insensitive, disgusting, and rude things every time he speaks. Appalled, she tells him off, refuses his amorous advances, and begins to walk out. Before she opens the door, he speaks to her, manipulating her emotions until she eventually agrees. The next morning, Daryl visits the shy and insecure Jane. As the two sit down and share polite conversation, Jane explains that the Lennox Mansion was built on a site where alleged witches were burned at the stake. Later that night, Daryl encourages Jane to play her cello with wild abandon, never before achieved, playing faster and faster while accompanied by Daryl on the piano, until finally the strings break, the cello bursts into flame, and Jane flings herself upon Daryl with passion. The following week, Daryl invites all three of the women to his mansion, his sights now on Sukie. Later, as envy and rivalry emerge among the women, they inadvertently levitate a tennis ball. Finally aware of their magical abilities, the women agree to share Daryl.\\r\\nAs the women spend more time at Daryl\\'s mansion, Felicia spreads rumors about their indecency. Alex, Jane, and Sukie become social outcasts. As the witches begin to question their loyalty to Daryl, he causes them to unknowingly cast a spell against Felicia. Later that night, while ranting to her husband about Daryl being the Devil, Felicia begins to vomit cherry stones. Horrified by her uncontrollable behavior, Clyde kills her with a fire poker.\\r\\nAfter Felicia\\'s death, the three women become fearful of their powers and agree to avoid each other and Daryl until the situation has quieted down. Upset by this abandonment, Daryl uses his own powers to bring their worst fears to life. Alex awakens to a bed full of snakes; Jane\\'s body begins rapidly aging; and Sukie experiences sudden, agonizing pain. Realizing the only way to get rid of Daryl is by using witchcraft against him, the women reunite with him, pretending to have made amends.\\r\\nThe next morning, Daryl sets out to buy bagels and ice cream, as per the request of the three women. While he is out of the mansion, Alex uses wax and Daryl\\'s hair to create a voodoo doll in his image and the three women begin to harm the doll, hoping that Daryl will leave as a result. As the spell takes effect, Daryl - still in town - is buffeted by a sudden wind and begins to feel excruciating pain (each event corresponding to something the doll undergoes). He runs inside a church to hide from the wind and finds it full of people praying. Realizing the source of his troubles, he begins ranting about the women, cursing them as a group before vomiting cherry pits like Felicia did. An enraged Daryl then races home to punish the witches for their betrayal. Realizing their plot to make Daryl leave was ineffective, they attempt to hide their spell and toss the voodoo doll into a fire just as he enters the mansion. Daryl vanishes as a result, but not before reverting to a large, monstrous form that attempts to shake the mansion apart.\\r\\nEighteen months later, the women are living together in Daryl\\'s mansion, each with a new baby son (each boy shares his mother\\'s hair color). The boys are playing together when Daryl appears on a wall filled with video screens and invites them to \"give Daddy a kiss.\" Before they can do so, Alex, Jane, and Sukie appear and switch off the televisions.',\n",
       "     'year': 1987,\n",
       "     'wiki_page': 'https://en.wikipedia.org/wiki/The_Witches_of_Eastwick_(film)'}},\n",
       "   {'_index': 'movies',\n",
       "    '_id': '10742',\n",
       "    '_score': 7.986475,\n",
       "    '_source': {'title': 'Ironweed',\n",
       "     'ethnicity': 'American',\n",
       "     'director': 'Héctor Babenco',\n",
       "     'cast': \"Jack Nicholson, Meryl Streep, Tom Waits, Fred Gwynne; Michael O'Keefe, Carroll Baker\",\n",
       "     'genre': 'drama',\n",
       "     'plot': \"Francis Phelan (Jack Nicholson) is a washed-up baseball player who deserted his family back in the 1910s when he accidentally dropped his son and killed him. It is assumed in the film that he was drunk at the time until he later claims he was just tired and doesn't understand why no one will believe in his story. Since then, Phelan has been a bum, punishing himself. Wandering into his hometown of Albany on Halloween in 1938, Phelan seeks out his lover and drinking companion, Helen Archer (Meryl Streep). The two meet up in a mission managed by Reverend Chester (James Gammon), and later in Oscar Reo's (Fred Gwynne) gin mill.\\r\\nOver the next few days, Phelan takes a few minor jobs to support Helen, while haunted by visions of his past. Francis comes back to his old family house and tries to make peace with his wife Annie Phelan (Carroll Baker), his son Billy (Michael O'Keefe) and Peg (Diane Venora). Meanwhile, a group of local vigilantes take it upon themselves to drive the homeless out of Albany. During the course of the day, a series of events change Francis' life forever.\",\n",
       "     'year': 1987,\n",
       "     'wiki_page': 'https://en.wikipedia.org/wiki/Ironweed_(film)'}},\n",
       "   {'_index': 'movies',\n",
       "    '_id': '14362',\n",
       "    '_score': 7.986475,\n",
       "    '_source': {'title': \"Something's Gotta Give\",\n",
       "     'ethnicity': 'American',\n",
       "     'director': 'Nancy Meyers',\n",
       "     'cast': 'Jack Nicholson, Diane Keaton, Keanu Reeves, Amanda Peet, Frances McDormand, Jon Favreau',\n",
       "     'genre': 'romantic comedy',\n",
       "     'plot': 'Harry Sanborn is a wealthy New York music mogul who has had a 40-year habit of dating women under 30, including his latest conquest, Marin Klein. The two drive to her mother\\'s Hamptons beach house expecting to be alone, but are surprised by Marin\\'s mother, successful playwright Erica Barry, who is there with her sister Zoe.\\r\\nAfter an awkward dinner, the night turns disastrous when — during foreplay with Marin — Harry has a heart attack and is rushed to a hospital. The doctor, Julian Mercer, tells Harry to stay nearby for a few days, so Harry ends up staying with Erica. Their personalities clash and make for awkward living arrangements—until they get to know each other. The fact that Harry is dating her daughter and that Julian has fallen for Erica leave the two struggling to deal with relationships.\\r\\nMarin and Harry agree to break up. He and Erica spend more time together and eventually consummate their relationship. Harry discovers that his improving health means that he no longer has to stay with Erica, so he heads home.\\r\\nMarin receives news that her father, Dave Klein, Erica\\'s ex-husband, whom Erica still allows to direct her plays, is getting remarried to Kristen, an ear, nose and throat doctor who is only two years older than Marin. Although Erica is unaffected by the news, Marin is devastated and pressures her mother into accompanying her to a family dinner. Erica is the life of the party until she sees Harry at another table with another woman. In the argument that follows, Harry suffers from what he believes is another heart attack, but he is told by the young ER physician, Dr. Martinez, who treats him like her father, that it was only a panic attack.\\r\\nAlthough she is heartbroken, Erica figures that these events would be great to use in a play. Harry hears about it and rushes to the NYC theater where it is being rehearsed. Despite her denials, it is quickly obvious that she has used the most personal details of their affair in the play. Erica coolly rebuffs his every insinuation that he cares about her and hints that his character will die in the play—for a laugh. He then has another panic attack and is again treated by Dr.\\xa0Martinez, who warns him that he needs to learn to \"decompress\".\\r\\nSix months pass. Erica\\'s play is a huge success. Harry pays Marin a visit to apologize for anything he ever did to hurt her. She replies that he was nothing but nice to her and happily tells him that she is pregnant and has a new husband. Harry expresses a desire to see Erica. Marin tells him that her mother is in Paris celebrating her birthday. Harry decides to surprise Erica. Remembering how they had once planned to spend their birthdays together there, he shows up at the Parisian restaurant where she is seated at a table. Harry explains that over the past six months he reached out to all of the women he ever had affairs with, and even though repeatedly rebuffed at first, finally broke through. They all had identical harsh stories that helped him learn how \"I arrived at being me.\" He tells Erica that his trip to find her was the last and the farthest. Julian appears. All along, Erica has been waiting at the restaurant for Julian, whom she is now dating.\\r\\nHarry and Erica get along well during the dinner, but they part outside the restaurant. While he is gazing in heartache over the river Seine, Erica pulls up in a taxi. She explains that Julian figured out what was happening between them and decided to step aside to let her be with Harry. Harry explains that his search the last six months has made him realize he truly loves Erica. Harry and Erica kiss.\\r\\nA year later, at a New York restaurant, Erica and Harry, now married, are out with Marin, her husband and her new baby daughter, as one big happy family.',\n",
       "     'year': 2003,\n",
       "     'wiki_page': 'https://en.wikipedia.org/wiki/Something%27s_Gotta_Give_(film)'}},\n",
       "   {'_index': 'movies',\n",
       "    '_id': '9021',\n",
       "    '_score': 7.986475,\n",
       "    '_source': {'title': 'Chinatown',\n",
       "     'ethnicity': 'American',\n",
       "     'director': 'Roman Polanski',\n",
       "     'cast': 'Jack Nicholson, Faye Dunaway, John Huston, Perry Lopez, Diane Ladd, Burt Young',\n",
       "     'genre': 'unknown',\n",
       "     'plot': 'A woman identifying herself as Evelyn Mulwray hires private investigator J.J. \"Jake\" Gittes to surveil her husband, Hollis Mulwray, chief engineer for the Los Angeles Department of Water and Power. Gittes tails him, hears him publicly refuse to create a new reservoir that would be unsafe, and shoots photographs of him with a young woman, which are published on the front page of the following day\\'s paper. Back at his office, Gittes is confronted by a woman who informs him she is the real Evelyn Mulwray and that he can expect a lawsuit.\\r\\nRealizing he was set up, Gittes assumes that Hollis Mulwray is the real target. Before he can question him, Lieutenant Lou Escobar fishes Mulwray, drowned, from a reservoir. Under retainer to Mrs. Mulwray, Gittes investigates his suspicions of murder and notices that although there is a drought, huge quantities of water are being released from the reservoir every night. Gittes is warned off by Water Department Security Chief Claude Mulvihill and a henchman who slashes Gittes\\' nose. Back at his office, Gittes receives a call from Ida Sessions, who identifies herself as the imposter Mrs. Mulwray. She is afraid to identify her employer but tells Gittes to check the day\\'s obituaries.\\r\\nGittes learns that Mulwray was once the business partner of his wife\\'s wealthy father, Noah Cross. Over lunch at his personal club, Cross warns Gittes that he does not understand the forces at work, and offers to double Gittes\\' fee to search for Mulwray\\'s missing mistress. At the hall of records, Gittes discovers that much of the Northwest Valley has recently changed ownership. Investigating the valley, he is attacked by angry landowners who believe he is an agent of the water department attempting to force them out by sabotaging their water supply.\\r\\nGittes deduces that the water department is drying up the land so it can be bought at a reduced price and that Mulwray was murdered when he discovered the plan. He discovers that a former retirement home resident is one of the valley\\'s new landowners who seemingly purchased the property a week after his death. Gittes and Evelyn bluff their way into the home and confirm that the real-estate deals were surreptitiously completed in the names of several of the home\\'s residents. Their visit is interrupted by the suspicious retirement-home director, who has called Mulvihill.\\r\\nAfter fleeing Mulvihill and his thugs, Gittes and Evelyn hide at Evelyn\\'s house and sleep together. During the night, Evelyn gets a phone call and must leave suddenly; she warns Gittes that her father is dangerous. Gittes follows Evelyn\\'s car to a house, where he spies her through the windows comforting Mulwray\\'s mistress, Katherine. He accuses Evelyn of holding the woman against her will, but she says Katherine is her sister.\\r\\nThe next day, an anonymous call draws Gittes to Ida Sessions\\' apartment, where he finds her murdered and Escobar waiting for Gittes\\' arrival. Escobar tells him the coroner\\'s report found salt water in Mulwray\\'s lungs, indicating that he did not drown in the fresh water of the reservoir. Escobar suspects Evelyn of the murder and tells Gittes to produce her quickly. At Evelyn\\'s mansion, Gittes finds her servants packing her things. He realizes her garden pond is salt water and discovers a pair of bifocals in it. He confronts Evelyn about Katherine, whom Evelyn now claims is her daughter. After Gittes slaps her, she tells him that Katherine is her sister and her daughter: her father raped her when she was 15. She says that the eyeglasses are not Mulwray\\'s, as he did not wear bifocals.\\r\\nGittes arranges for the women to flee to Mexico and instructs Evelyn to meet him at her butler\\'s home in Chinatown. He summons Cross to the Mulwray home to settle their deal. Cross admits his intention to annex the Northwest Valley into the City of Los Angeles, then irrigate and develop it. Gittes accuses Cross of murdering Mulwray. Cross has Mulvihill take the bifocals at gunpoint, and they force Gittes to drive them to the women. When they reach the Chinatown address, the police are already there and detain Gittes. When Cross approaches Katherine, Evelyn shoots him in the arm and starts to drive away with Katherine. The police open fire, killing Evelyn. Cross clutches Katherine and leads her away, while Escobar orders Gittes released. Lawrence Walsh, one of Gittes\\'s associates, tells him: \"Forget it, Jake. It\\'s Chinatown.\"',\n",
       "     'year': 1974,\n",
       "     'wiki_page': 'https://en.wikipedia.org/wiki/Chinatown_(1974_film)'}},\n",
       "   {'_index': 'movies',\n",
       "    '_id': '11550',\n",
       "    '_score': 6.7651396,\n",
       "    '_source': {'title': 'The Two Jakes',\n",
       "     'ethnicity': 'American',\n",
       "     'director': 'Jack Nicholson',\n",
       "     'cast': 'Jack Nicholson, Harvey Keitel, Meg Tilly, Madeleine Stowe, Eli Wallach, Ruben Blades, Perry Lopez, Richard Farnsworth',\n",
       "     'genre': 'crime drama',\n",
       "     'plot': 'In Los Angeles in 1948, Julius \"Jake\" Berman hires private investigator J. J. \"Jake\" Gittes to catch his wife, Kitty, in the act of committing adultery. During the sting, Berman kills his rival, who also happens to be his business partner in a real estate development company. Gittes, not having known this, suddenly finds himself under scrutiny for his role in the possible crime, all of which centers around a wire recording that captured the illicit love meeting, the confrontation, and the killing of Mark Bodine. It calls into question if Berman knew and killed his partner to wrest control of the partnership, making it murder, or was an act of jealousy, which may qualify as \"temporary insanity\" and be permitted as a defense to a charge of murder.\\r\\nGittes must convince LAPD captain Escobar that he should not be charged as an accomplice. Oddly, Berman seems unconcerned with the possibility that he may be accused of murder. Gittes has the recording, which Berman\\'s attorney, Cotton Weinberger, and mobster friend Mickey Nice, both want, locked in a safe in his office in L.A., which is being rocked by earthquakes. Berman\\'s housing development in the Valley also is experiencing seismic activities. Gittes is nearly killed in a gas explosion, waking to find Berman and wife, Kitty, standing over him.\\r\\nGittes has a confrontation, and later a sexual encounter, with Lilian Bodine, the dead man\\'s angry widow. He is presented with proof that Earl Rawley, a wealthy and ruthless oil man, may be drilling under the Bodine and Berman development, though Rawley has denied it. This leads to a need to determine who owns the mineral rights to the land. Gittes discovers that the rights are owned by one Katherine Mulwray, daughter of Evelyn Mulwray, his love interest from twelve years prior. He also discovers that the deed transfers were executed in such a way as to attempt to hide Katherine Mulwray\\'s prior ownership and continued claim of the mineral rights.\\r\\nGittes operatives have seen Berman in the company of a blond woman along with Mickey, and a bodyguard. With a bit of sleuthing Gittes determines that the woman is an oncologist and is treating Berman for cancer somewhere below the waist. Gittes confronts Berman with this knowledge and gets a full confession. Along the way, Gittes discovers that Berman is not going to survive and the entire set-up was to ensure that Kitty was protected once he died.\\r\\nIn order to get Kitty to talk to him, Gittes must prove that Berman set out to kill his partner. Once accomplished, Kitty agrees to meet Gittes and tell him what she knows about Berman. In the process of discussing Berman\\'s possible motivations, mineral rights, and the possible whereabouts of Katherine, it is revealed that Kitty and Katherine are the same person. Kitty had never suspected that her husband is dying.\\r\\nIn order to prove premeditation, passion, and perhaps even connections to a woman long missing, seemingly everyone wants the recording, which Gittes refuses to give up until the day of the inquest. Somehow, Gittes edits the recording, leaving Katherine\\'s name chopped out of the dialog, shooting, and aftermath of Lillian\\'s murder. This makes the inquest a short, satisfying meeting where the judge has no reason to suspect murder, and Berman is now free of criminal charges. Confronted with the knowledge Gittes has of his terminal illness, Berman, knowing the model house he is in is filled with natural gas, convinces Gittes and Mickey to leave him alone in the house so he can \"have a smoke.\" He doesn\\'t want an autopsy to interfere with Kitty\\'s inheritance. As they drive off, the house explodes.\\r\\nThe story ends with Kitty and Gittes in his office. They speak of regrets, and Kitty kisses Gittes, who rejects her advances, saying \"That\\'s your problem, kid. You don\\'t know who you\\'re kidding.\" She leaves, telling him to \"Think of me time to time\". Gittes tells her, \"It never goes away.\"',\n",
       "     'year': 1990,\n",
       "     'wiki_page': 'https://en.wikipedia.org/wiki/The_Two_Jakes'}}]}}"
      ]
     },
     "execution_count": 8,
     "metadata": {},
     "output_type": "execute_result"
    }
   ],
   "source": [
    "resp = client.search(\n",
    "    index=\"movies\",\n",
    "    body={\n",
    "        \"query\": {\n",
    "            \"bool\": {\n",
    "                \"must\": {\n",
    "                    \"match_phrase\": {\n",
    "                        \"cast\": \"jack nicholson\",\n",
    "                    }\n",
    "                },\n",
    "                \"filter\": {\"bool\": {\"must_not\": {\"match_phrase\": {\"director\": \"tim burton\"}}}},\n",
    "            },\n",
    "        },            \n",
    "    }\n",
    ")\n",
    "resp"
   ]
  },
  {
   "cell_type": "markdown",
   "metadata": {},
   "source": [
    "## 7️⃣ Delete documents from the index"
   ]
  },
  {
   "cell_type": "code",
   "execution_count": 9,
   "metadata": {},
   "outputs": [
    {
     "data": {
      "text/plain": [
       "{'_index': 'movies',\n",
       " '_id': '9140',\n",
       " '_version': 3,\n",
       " 'result': 'deleted',\n",
       " '_shards': {'total': 2, 'successful': 1, 'failed': 0},\n",
       " '_seq_no': 10000,\n",
       " '_primary_term': 1}"
      ]
     },
     "execution_count": 9,
     "metadata": {},
     "output_type": "execute_result"
    }
   ],
   "source": [
    "client.delete(index = \"movies\", id = \"9140\")"
   ]
  },
  {
   "cell_type": "markdown",
   "metadata": {},
   "source": [
    "## 8️⃣ Delete an index"
   ]
  },
  {
   "cell_type": "code",
   "execution_count": 10,
   "metadata": {},
   "outputs": [
    {
     "data": {
      "text/plain": [
       "{'acknowledged': True}"
      ]
     },
     "execution_count": 10,
     "metadata": {},
     "output_type": "execute_result"
    }
   ],
   "source": [
    "client.indices.delete(index='movies')"
   ]
  }
 ],
 "metadata": {
  "kernelspec": {
   "display_name": "Python 3 (ipykernel)",
   "language": "python",
   "name": "python3"
  },
  "language_info": {
   "codemirror_mode": {
    "name": "ipython",
    "version": 3
   },
   "file_extension": ".py",
   "mimetype": "text/x-python",
   "name": "python",
   "nbconvert_exporter": "python",
   "pygments_lexer": "ipython3",
   "version": "3.10.5"
  },
  "vscode": {
   "interpreter": {
    "hash": "263d882b26f8b234912b17d16dd3df809748a0ea62840ed2b21a4433ab8c13bc"
   }
  }
 },
 "nbformat": 4,
 "nbformat_minor": 2
}
