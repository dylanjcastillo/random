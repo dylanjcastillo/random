{
 "cells": [
  {
   "cell_type": "markdown",
   "metadata": {},
   "source": [
    "# OpenSearch + Python 101"
   ]
  },
  {
   "cell_type": "markdown",
   "metadata": {},
   "source": [
    "## 0️⃣ Prerequisites\n",
    "\n",
    "Before you begin, a few things must be in place. Follow these steps: \n",
    "1. Install docker.\n",
    "2. Download the data.\n",
    "3. Create a virtual environment and install the required packages. You can create one with venv by running these commands in the terminal:\n",
    "```shell\n",
    "python3 -m venv .venv\n",
    "source .venv/bin/activate\n",
    "python3 -m pip install pandas==1.4.3 notebook==6.3.0 opensearch-py==2.0.0\n",
    "```"
   ]
  },
  {
   "cell_type": "markdown",
   "metadata": {},
   "source": [
    "## 1️⃣ Run a Local OpenSearch Cluster\n",
    "\n",
    "Using Docker is the simplest method for running OpenSearch locally. Run the following command in a terminal to launch a single-node cluster:\n",
    "\n",
    "```shell\n",
    "docker run -p 9200:9200 -p 9600:9600 -e \"discovery.type=single-node\" opensearchproject/opensearch:2.2.0\n",
    "```\n"
   ]
  },
  {
   "cell_type": "markdown",
   "metadata": {},
   "source": [
    "## 2️⃣ Connect to Your Cluster"
   ]
  },
  {
   "cell_type": "code",
   "execution_count": null,
   "metadata": {},
   "outputs": [],
   "source": [
    "from opensearchpy import OpenSearch\n",
    "\n",
    "client = OpenSearch(\n",
    "    hosts = [{\"host\": \"localhost\", \"port\": 9200}],\n",
    "    http_auth = (\"admin\", \"admin\"),\n",
    "    use_ssl = True,\n",
    "    verify_certs = False,\n",
    "    ssl_assert_hostname = False,\n",
    "    ssl_show_warn = False,\n",
    ")"
   ]
  },
  {
   "cell_type": "code",
   "execution_count": null,
   "metadata": {},
   "outputs": [],
   "source": [
    "client.info()"
   ]
  },
  {
   "cell_type": "markdown",
   "metadata": {},
   "source": [
    "## 3️⃣ Read the data"
   ]
  },
  {
   "cell_type": "code",
   "execution_count": null,
   "metadata": {},
   "outputs": [],
   "source": [
    "import pandas as pd\n",
    "\n",
    "df = (\n",
    "\tpd.read_csv(\"wiki_movie_plots_deduped.csv\")\n",
    "    .dropna()\n",
    "    .sample(5000, random_state=42)\n",
    "    .reset_index(drop=True)\n",
    ")"
   ]
  },
  {
   "cell_type": "markdown",
   "metadata": {},
   "source": [
    "## 4️⃣ Create an index"
   ]
  },
  {
   "cell_type": "code",
   "execution_count": null,
   "metadata": {},
   "outputs": [],
   "source": [
    "body = {\n",
    "    \"mappings\":{\n",
    "        \"properties\": {\n",
    "            \"title\": {\"type\": \"text\", \"analyzer\": \"english\"},\n",
    "            \"ethnicity\": {\"type\": \"text\", \"analyzer\": \"standard\"},\n",
    "            \"director\": {\"type\": \"text\", \"analyzer\": \"standard\"},\n",
    "            \"cast\": {\"type\": \"text\", \"analyzer\": \"standard\"},\n",
    "            \"genre\": {\"type\": \"text\", \"analyzer\": \"standard\"},\n",
    "            \"plot\": {\"type\": \"text\", \"analyzer\": \"english\"},\n",
    "            \"year\": {\"type\": \"integer\"},\n",
    "            \"wiki_page\": {\"type\": \"keyword\"}\n",
    "        }\n",
    "    }\n",
    "}\n",
    "response = client.indices.create(\"movies\", body=body)"
   ]
  },
  {
   "cell_type": "markdown",
   "metadata": {},
   "source": [
    "## 5️⃣ Add data yo your index"
   ]
  },
  {
   "cell_type": "markdown",
   "metadata": {},
   "source": [
    "### Using `client.index()`"
   ]
  },
  {
   "cell_type": "code",
   "execution_count": null,
   "metadata": {},
   "outputs": [],
   "source": [
    "for i, row in df.iterrows():\n",
    "    body = {\n",
    "        \"title\": row[\"Title\"],\n",
    "        \"ethnicity\": row[\"Origin/Ethnicity\"],\n",
    "        \"director\": row[\"Director\"],\n",
    "        \"cast\": row[\"Cast\"],\n",
    "        \"genre\": row[\"Genre\"],\n",
    "        \"plot\": row[\"Plot\"],\n",
    "        \"year\": row[\"Release Year\"],\n",
    "        \"wiki_page\": row[\"Wiki Page\"]\n",
    "    }    \n",
    "    client.index(index=\"movies\", id=i, body=body)"
   ]
  },
  {
   "cell_type": "markdown",
   "metadata": {},
   "source": [
    "### Using `bulk()`"
   ]
  },
  {
   "cell_type": "code",
   "execution_count": null,
   "metadata": {},
   "outputs": [],
   "source": [
    "from opensearchpy.helpers import bulk\n",
    "\n",
    "bulk_data = []\n",
    "for i,row in df.iterrows():\n",
    "    bulk_data.append(\n",
    "        {\n",
    "            \"_index\": \"movies\",\n",
    "            \"_id\": i,\n",
    "            \"_source\": {        \n",
    "                \"title\": row[\"Title\"],\n",
    "                \"ethnicity\": row[\"Origin/Ethnicity\"],\n",
    "                \"director\": row[\"Director\"],\n",
    "                \"cast\": row[\"Cast\"],\n",
    "                \"genre\": row[\"Genre\"],\n",
    "                \"plot\": row[\"Plot\"],\n",
    "                \"year\": row[\"Release Year\"],\n",
    "                \"wiki_page\": row[\"Wiki Page\"],\n",
    "            }\n",
    "        }\n",
    "    )\n",
    "bulk(client, bulk_data)"
   ]
  },
  {
   "cell_type": "code",
   "execution_count": null,
   "metadata": {},
   "outputs": [],
   "source": [
    "client.indices.refresh(index=\"movies\")\n",
    "client.cat.count(index=\"movies\", format=\"json\")"
   ]
  },
  {
   "cell_type": "markdown",
   "metadata": {},
   "source": [
    "## 6️⃣ Search your data\n"
   ]
  },
  {
   "cell_type": "code",
   "execution_count": null,
   "metadata": {},
   "outputs": [],
   "source": [
    "resp = client.search(\n",
    "    index=\"movies\",\n",
    "    body={\n",
    "        \"query\": {\n",
    "            \"bool\": {\n",
    "                \"must\": {\n",
    "                    \"match_phrase\": {\n",
    "                        \"cast\": \"jack nicholson\",\n",
    "                    }\n",
    "                },\n",
    "                \"filter\": {\"bool\": {\"must_not\": {\"match_phrase\": {\"director\": \"tim burton\"}}}},\n",
    "            },\n",
    "        },            \n",
    "    }\n",
    ")\n",
    "resp"
   ]
  },
  {
   "cell_type": "markdown",
   "metadata": {},
   "source": [
    "## 7️⃣ Delete documents from the index"
   ]
  },
  {
   "cell_type": "code",
   "execution_count": null,
   "metadata": {},
   "outputs": [],
   "source": [
    "client.delete(index = \"movies\", id = \"2500\")"
   ]
  },
  {
   "cell_type": "markdown",
   "metadata": {},
   "source": [
    "## 8️⃣ Delete an index"
   ]
  },
  {
   "cell_type": "code",
   "execution_count": null,
   "metadata": {},
   "outputs": [],
   "source": [
    "client.indices.delete(index='movies')"
   ]
  }
 ],
 "metadata": {
  "kernelspec": {
   "display_name": "Python 3 (ipykernel)",
   "language": "python",
   "name": "python3"
  },
  "language_info": {
   "codemirror_mode": {
    "name": "ipython",
    "version": 3
   },
   "file_extension": ".py",
   "mimetype": "text/x-python",
   "name": "python",
   "nbconvert_exporter": "python",
   "pygments_lexer": "ipython3",
   "version": "3.10.5"
  },
  "vscode": {
   "interpreter": {
    "hash": "263d882b26f8b234912b17d16dd3df809748a0ea62840ed2b21a4433ab8c13bc"
   }
  }
 },
 "nbformat": 4,
 "nbformat_minor": 2
}
