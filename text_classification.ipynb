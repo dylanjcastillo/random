{
 "cells": [
  {
   "cell_type": "markdown",
   "id": "a008f07f",
   "metadata": {},
   "source": [
    "# 📚 Text classification using Python and Scikit-learn\n",
    "\n",
    "Text classification is the task of automatically assigning labels to pieces of text, such as articles, blog posts, or reviews. Many businesses use text classification algorithms to save time and money by reducing the amount of manual labor needed to organize and analyze their text data.\n",
    "\n",
    "These algorithms are extremely powerful tools when used correctly. Text classification models keep your email free of spam, assist authors in detecting plagiarism, and help your grammar checker understand the various parts of speech.\n",
    "\n",
    "If you want to build a text classifier, you have many options to choose from. You can use traditional methods such as bag-of-words, advanced methods like Word2Vec embeddings, and cutting-edge approaches like BERT or GPT-3.\n",
    "\n",
    "However, if you want to get something up and running quickly at no cost, you should build your text classification model with Python and Scikit-learn. I'll show you how in this tutorial.\n",
    "\n",
    "Let's get started!"
   ]
  },
  {
   "cell_type": "markdown",
   "id": "281ae87f",
   "metadata": {},
   "source": [
    "## 0️⃣ Prerequisites"
   ]
  },
  {
   "cell_type": "markdown",
   "id": "10218fda",
   "metadata": {},
   "source": [
    "1. Create a virtual environment using `conda` or `venv`\n",
    "2. Install the required libraries: `pip install numpy pandas notebook scikit-learn`"
   ]
  },
  {
   "cell_type": "markdown",
   "id": "7004d23f",
   "metadata": {},
   "source": [
    "## 1️⃣ Imports"
   ]
  },
  {
   "cell_type": "code",
   "execution_count": 1,
   "id": "ccb47cfd",
   "metadata": {},
   "outputs": [],
   "source": [
    "import joblib\n",
    "import re\n",
    "import string\n",
    "\n",
    "import numpy as np\n",
    "import pandas as pd\n",
    "\n",
    "from sklearn.datasets import fetch_20newsgroups\n",
    "from sklearn.feature_extraction.text import CountVectorizer\n",
    "from sklearn.metrics import accuracy_score, cohen_kappa_score, f1_score, classification_report\n",
    "from sklearn.model_selection import StratifiedKFold, train_test_split\n",
    "from sklearn.naive_bayes import MultinomialNB"
   ]
  },
  {
   "cell_type": "markdown",
   "id": "d09c7d92",
   "metadata": {},
   "source": [
    "## 2️⃣ Read the data"
   ]
  },
  {
   "cell_type": "code",
   "execution_count": 2,
   "id": "27af9ac1",
   "metadata": {},
   "outputs": [],
   "source": [
    "categories = [\n",
    "    \"alt.atheism\",\n",
    "    \"misc.forsale\",\n",
    "    \"sci.space\",\n",
    "    \"soc.religion.christian\",\n",
    "    \"talk.politics.guns\",\n",
    "]\n",
    "\n",
    "news_group_data = fetch_20newsgroups(\n",
    "    subset=\"all\", remove=(\"headers\", \"footers\", \"quotes\"), categories=categories\n",
    ")\n",
    "\n",
    "df = pd.DataFrame(dict(text=news_group_data[\"data\"], target=news_group_data[\"target\"]))\n",
    "df[\"target\"] = df.target.map(lambda x: categories[x])"
   ]
  },
  {
   "cell_type": "markdown",
   "id": "9c7f0b53",
   "metadata": {},
   "source": [
    "## 3️⃣ Clean the text column"
   ]
  },
  {
   "cell_type": "code",
   "execution_count": 3,
   "id": "709c4fbc",
   "metadata": {},
   "outputs": [],
   "source": [
    "def process_text(text):\n",
    "    text = str(text).lower()\n",
    "    text = re.sub(\n",
    "        f\"[{re.escape(string.punctuation)}]\", \" \", text\n",
    "    )\n",
    "    text = \" \".join(text.split())\n",
    "    return text\n",
    "\n",
    "df[\"clean_text\"] = df.text.map(process_text)"
   ]
  },
  {
   "cell_type": "markdown",
   "id": "59ac64f0",
   "metadata": {},
   "source": [
    "## 4️⃣ Train/test split"
   ]
  },
  {
   "cell_type": "code",
   "execution_count": 4,
   "id": "b51609dc",
   "metadata": {},
   "outputs": [],
   "source": [
    "df_train, df_test = train_test_split(df, test_size=0.20, stratify=df.target)"
   ]
  },
  {
   "cell_type": "markdown",
   "id": "4962b4ad",
   "metadata": {},
   "source": [
    "## 5️⃣ Create bag-of-words features"
   ]
  },
  {
   "cell_type": "code",
   "execution_count": null,
   "id": "107b3267",
   "metadata": {},
   "outputs": [],
   "source": [
    "vec = CountVectorizer(\n",
    "    ngram_range=(1, 3), \n",
    "    stop_words=\"english\",\n",
    ")\n",
    "\n",
    "X_train = vec.fit_transform(df_train.clean_text)\n",
    "X_test = vec.transform(df_test.clean_text)\n",
    "\n",
    "y_train = df_train.target\n",
    "y_test = df_test.target"
   ]
  },
  {
   "cell_type": "markdown",
   "id": "95546155",
   "metadata": {},
   "source": [
    "## 6️⃣ Train and evaluate the model"
   ]
  },
  {
   "cell_type": "code",
   "execution_count": null,
   "id": "b39f29c0",
   "metadata": {},
   "outputs": [],
   "source": [
    "nb = MultinomialNB()\n",
    "nb.fit(X_train, y_train)\n",
    "\n",
    "preds = nb.predict(X_test)\n",
    "print(classification_report(y_test, preds))"
   ]
  },
  {
   "cell_type": "markdown",
   "id": "1bfa18ad",
   "metadata": {},
   "source": [
    "## 7️⃣ Saving and loading the model"
   ]
  },
  {
   "cell_type": "code",
   "execution_count": null,
   "id": "41d19ee1",
   "metadata": {},
   "outputs": [],
   "source": [
    "joblib.dump(nb, \"nb.joblib\")\n",
    "joblib.dump(vec, \"vec.joblib\")"
   ]
  },
  {
   "cell_type": "code",
   "execution_count": null,
   "id": "3375c2a3",
   "metadata": {},
   "outputs": [],
   "source": [
    "nb_saved = joblib.load(\"nb.joblib\")\n",
    "vec_saved = joblib.load(\"vec.joblib\")\n",
    "\n",
    "sample_text = [\"Space, Stars, Planets and Astronomy!\"]\n",
    "clean_sample_text = process_text(sample_text)\n",
    "sample_vec = vec_saved.transform(sample_text)\n",
    "nb_saved.predict(sample_vec)"
   ]
  }
 ],
 "metadata": {
  "kernelspec": {
   "display_name": "Python 3 (ipykernel)",
   "language": "python",
   "name": "python3"
  },
  "language_info": {
   "codemirror_mode": {
    "name": "ipython",
    "version": 3
   },
   "file_extension": ".py",
   "mimetype": "text/x-python",
   "name": "python",
   "nbconvert_exporter": "python",
   "pygments_lexer": "ipython3",
   "version": "3.10.5"
  }
 },
 "nbformat": 4,
 "nbformat_minor": 5
}
